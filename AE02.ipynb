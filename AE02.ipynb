{
  "nbformat": 4,
  "nbformat_minor": 0,
  "metadata": {
    "colab": {
      "name": "AE02.ipynb",
      "provenance": [],
      "authorship_tag": "ABX9TyOkEYrhncIsMQaRKr4TBWsO",
      "include_colab_link": true
    },
    "kernelspec": {
      "name": "ir",
      "display_name": "R"
    }
  },
  "cells": [
    {
      "cell_type": "markdown",
      "metadata": {
        "id": "view-in-github",
        "colab_type": "text"
      },
      "source": [
        "<a href=\"https://colab.research.google.com/github/nihdin/AppliedEconometrics/blob/master/AE02.ipynb\" target=\"_parent\"><img src=\"https://colab.research.google.com/assets/colab-badge.svg\" alt=\"Open In Colab\"/></a>"
      ]
    },
    {
      "cell_type": "code",
      "metadata": {
        "id": "_7Xj1FlwJ-Um",
        "colab_type": "code",
        "outputId": "d54d8bfa-b42c-4343-c8a5-24ba654d151f",
        "colab": {
          "base_uri": "https://localhost:8080/",
          "height": 72
        }
      },
      "source": [
        "install.packages(\"wooldridge\")\n",
        "library(wooldridge)"
      ],
      "execution_count": 0,
      "outputs": [
        {
          "output_type": "stream",
          "text": [
            "Installing package into ‘/usr/local/lib/R/site-library’\n",
            "(as ‘lib’ is unspecified)\n",
            "\n"
          ],
          "name": "stderr"
        }
      ]
    },
    {
      "cell_type": "code",
      "metadata": {
        "id": "NEATnL9xKAni",
        "colab_type": "code",
        "outputId": "143bce2b-9078-4736-b242-8879c6c26215",
        "colab": {
          "base_uri": "https://localhost:8080/",
          "height": 635
        }
      },
      "source": [
        "data('htv')\n",
        "head(htv)\n",
        "colnames(htv)\n",
        "attach(htv)"
      ],
      "execution_count": 0,
      "outputs": [
        {
          "output_type": "display_data",
          "data": {
            "text/plain": [
              "  wage      abil     educ ne nc west south exper motheduc fatheduc ⋯ ne18 nc18\n",
              "1 12.019231 5.027738 15   0  0  1    0      9    12       12       ⋯ 1    0   \n",
              "2  8.912656 2.037170 13   1  0  0    0      8    12       10       ⋯ 1    0   \n",
              "3 15.514334 2.475895 15   1  0  0    0     11    12       16       ⋯ 1    0   \n",
              "4 13.333333 3.609240 15   1  0  0    0      6    12       12       ⋯ 1    0   \n",
              "5 11.070110 2.636546 13   1  0  0    0     15    12       15       ⋯ 1    0   \n",
              "6 17.482517 3.474334 18   1  0  0    0      8    12       12       ⋯ 1    0   \n",
              "  south18 west18 urban18 tuit17   tuit18    lwage    expersq ctuit     \n",
              "1 0       0      1       7.582914  7.260242 2.486508  81     -0.3226714\n",
              "2 0       0      1       8.595144  9.499537 2.187472  64      0.9043922\n",
              "3 0       0      1       7.311346  7.311346 2.741764 121      0.0000000\n",
              "4 0       0      1       9.499537 10.162070 2.590267  36      0.6625338\n",
              "5 0       0      1       7.311346  7.311346 2.404249 225      0.0000000\n",
              "6 0       0      1       7.311346  7.311346 2.861201  64      0.0000000"
            ],
            "text/latex": "A data.frame: 6 × 23\n\\begin{tabular}{r|lllllllllllllllllllll}\n  & wage & abil & educ & ne & nc & west & south & exper & motheduc & fatheduc & ⋯ & ne18 & nc18 & south18 & west18 & urban18 & tuit17 & tuit18 & lwage & expersq & ctuit\\\\\n  & <dbl> & <dbl> & <int> & <int> & <int> & <int> & <int> & <int> & <int> & <int> & ⋯ & <int> & <int> & <int> & <int> & <int> & <dbl> & <dbl> & <dbl> & <int> & <dbl>\\\\\n\\hline\n\t1 & 12.019231 & 5.027738 & 15 & 0 & 0 & 1 & 0 &  9 & 12 & 12 & ⋯ & 1 & 0 & 0 & 0 & 1 & 7.582914 &  7.260242 & 2.486508 &  81 & -0.3226714\\\\\n\t2 &  8.912656 & 2.037170 & 13 & 1 & 0 & 0 & 0 &  8 & 12 & 10 & ⋯ & 1 & 0 & 0 & 0 & 1 & 8.595144 &  9.499537 & 2.187472 &  64 &  0.9043922\\\\\n\t3 & 15.514334 & 2.475895 & 15 & 1 & 0 & 0 & 0 & 11 & 12 & 16 & ⋯ & 1 & 0 & 0 & 0 & 1 & 7.311346 &  7.311346 & 2.741764 & 121 &  0.0000000\\\\\n\t4 & 13.333333 & 3.609240 & 15 & 1 & 0 & 0 & 0 &  6 & 12 & 12 & ⋯ & 1 & 0 & 0 & 0 & 1 & 9.499537 & 10.162070 & 2.590267 &  36 &  0.6625338\\\\\n\t5 & 11.070110 & 2.636546 & 13 & 1 & 0 & 0 & 0 & 15 & 12 & 15 & ⋯ & 1 & 0 & 0 & 0 & 1 & 7.311346 &  7.311346 & 2.404249 & 225 &  0.0000000\\\\\n\t6 & 17.482517 & 3.474334 & 18 & 1 & 0 & 0 & 0 &  8 & 12 & 12 & ⋯ & 1 & 0 & 0 & 0 & 1 & 7.311346 &  7.311346 & 2.861201 &  64 &  0.0000000\\\\\n\\end{tabular}\n",
            "text/markdown": "\nA data.frame: 6 × 23\n\n| <!--/--> | wage &lt;dbl&gt; | abil &lt;dbl&gt; | educ &lt;int&gt; | ne &lt;int&gt; | nc &lt;int&gt; | west &lt;int&gt; | south &lt;int&gt; | exper &lt;int&gt; | motheduc &lt;int&gt; | fatheduc &lt;int&gt; | ⋯ ⋯ | ne18 &lt;int&gt; | nc18 &lt;int&gt; | south18 &lt;int&gt; | west18 &lt;int&gt; | urban18 &lt;int&gt; | tuit17 &lt;dbl&gt; | tuit18 &lt;dbl&gt; | lwage &lt;dbl&gt; | expersq &lt;int&gt; | ctuit &lt;dbl&gt; |\n|---|---|---|---|---|---|---|---|---|---|---|---|---|---|---|---|---|---|---|---|---|---|\n| 1 | 12.019231 | 5.027738 | 15 | 0 | 0 | 1 | 0 |  9 | 12 | 12 | ⋯ | 1 | 0 | 0 | 0 | 1 | 7.582914 |  7.260242 | 2.486508 |  81 | -0.3226714 |\n| 2 |  8.912656 | 2.037170 | 13 | 1 | 0 | 0 | 0 |  8 | 12 | 10 | ⋯ | 1 | 0 | 0 | 0 | 1 | 8.595144 |  9.499537 | 2.187472 |  64 |  0.9043922 |\n| 3 | 15.514334 | 2.475895 | 15 | 1 | 0 | 0 | 0 | 11 | 12 | 16 | ⋯ | 1 | 0 | 0 | 0 | 1 | 7.311346 |  7.311346 | 2.741764 | 121 |  0.0000000 |\n| 4 | 13.333333 | 3.609240 | 15 | 1 | 0 | 0 | 0 |  6 | 12 | 12 | ⋯ | 1 | 0 | 0 | 0 | 1 | 9.499537 | 10.162070 | 2.590267 |  36 |  0.6625338 |\n| 5 | 11.070110 | 2.636546 | 13 | 1 | 0 | 0 | 0 | 15 | 12 | 15 | ⋯ | 1 | 0 | 0 | 0 | 1 | 7.311346 |  7.311346 | 2.404249 | 225 |  0.0000000 |\n| 6 | 17.482517 | 3.474334 | 18 | 1 | 0 | 0 | 0 |  8 | 12 | 12 | ⋯ | 1 | 0 | 0 | 0 | 1 | 7.311346 |  7.311346 | 2.861201 |  64 |  0.0000000 |\n\n",
            "text/html": [
              "<table>\n",
              "<caption>A data.frame: 6 × 23</caption>\n",
              "<thead>\n",
              "\t<tr><th></th><th scope=col>wage</th><th scope=col>abil</th><th scope=col>educ</th><th scope=col>ne</th><th scope=col>nc</th><th scope=col>west</th><th scope=col>south</th><th scope=col>exper</th><th scope=col>motheduc</th><th scope=col>fatheduc</th><th scope=col>⋯</th><th scope=col>ne18</th><th scope=col>nc18</th><th scope=col>south18</th><th scope=col>west18</th><th scope=col>urban18</th><th scope=col>tuit17</th><th scope=col>tuit18</th><th scope=col>lwage</th><th scope=col>expersq</th><th scope=col>ctuit</th></tr>\n",
              "\t<tr><th></th><th scope=col>&lt;dbl&gt;</th><th scope=col>&lt;dbl&gt;</th><th scope=col>&lt;int&gt;</th><th scope=col>&lt;int&gt;</th><th scope=col>&lt;int&gt;</th><th scope=col>&lt;int&gt;</th><th scope=col>&lt;int&gt;</th><th scope=col>&lt;int&gt;</th><th scope=col>&lt;int&gt;</th><th scope=col>&lt;int&gt;</th><th scope=col>⋯</th><th scope=col>&lt;int&gt;</th><th scope=col>&lt;int&gt;</th><th scope=col>&lt;int&gt;</th><th scope=col>&lt;int&gt;</th><th scope=col>&lt;int&gt;</th><th scope=col>&lt;dbl&gt;</th><th scope=col>&lt;dbl&gt;</th><th scope=col>&lt;dbl&gt;</th><th scope=col>&lt;int&gt;</th><th scope=col>&lt;dbl&gt;</th></tr>\n",
              "</thead>\n",
              "<tbody>\n",
              "\t<tr><th scope=row>1</th><td>12.019231</td><td>5.027738</td><td>15</td><td>0</td><td>0</td><td>1</td><td>0</td><td> 9</td><td>12</td><td>12</td><td>⋯</td><td>1</td><td>0</td><td>0</td><td>0</td><td>1</td><td>7.582914</td><td> 7.260242</td><td>2.486508</td><td> 81</td><td>-0.3226714</td></tr>\n",
              "\t<tr><th scope=row>2</th><td> 8.912656</td><td>2.037170</td><td>13</td><td>1</td><td>0</td><td>0</td><td>0</td><td> 8</td><td>12</td><td>10</td><td>⋯</td><td>1</td><td>0</td><td>0</td><td>0</td><td>1</td><td>8.595144</td><td> 9.499537</td><td>2.187472</td><td> 64</td><td> 0.9043922</td></tr>\n",
              "\t<tr><th scope=row>3</th><td>15.514334</td><td>2.475895</td><td>15</td><td>1</td><td>0</td><td>0</td><td>0</td><td>11</td><td>12</td><td>16</td><td>⋯</td><td>1</td><td>0</td><td>0</td><td>0</td><td>1</td><td>7.311346</td><td> 7.311346</td><td>2.741764</td><td>121</td><td> 0.0000000</td></tr>\n",
              "\t<tr><th scope=row>4</th><td>13.333333</td><td>3.609240</td><td>15</td><td>1</td><td>0</td><td>0</td><td>0</td><td> 6</td><td>12</td><td>12</td><td>⋯</td><td>1</td><td>0</td><td>0</td><td>0</td><td>1</td><td>9.499537</td><td>10.162070</td><td>2.590267</td><td> 36</td><td> 0.6625338</td></tr>\n",
              "\t<tr><th scope=row>5</th><td>11.070110</td><td>2.636546</td><td>13</td><td>1</td><td>0</td><td>0</td><td>0</td><td>15</td><td>12</td><td>15</td><td>⋯</td><td>1</td><td>0</td><td>0</td><td>0</td><td>1</td><td>7.311346</td><td> 7.311346</td><td>2.404249</td><td>225</td><td> 0.0000000</td></tr>\n",
              "\t<tr><th scope=row>6</th><td>17.482517</td><td>3.474334</td><td>18</td><td>1</td><td>0</td><td>0</td><td>0</td><td> 8</td><td>12</td><td>12</td><td>⋯</td><td>1</td><td>0</td><td>0</td><td>0</td><td>1</td><td>7.311346</td><td> 7.311346</td><td>2.861201</td><td> 64</td><td> 0.0000000</td></tr>\n",
              "</tbody>\n",
              "</table>\n"
            ]
          },
          "metadata": {
            "tags": []
          }
        },
        {
          "output_type": "display_data",
          "data": {
            "text/plain": [
              " [1] \"wage\"     \"abil\"     \"educ\"     \"ne\"       \"nc\"       \"west\"    \n",
              " [7] \"south\"    \"exper\"    \"motheduc\" \"fatheduc\" \"brkhme14\" \"sibs\"    \n",
              "[13] \"urban\"    \"ne18\"     \"nc18\"     \"south18\"  \"west18\"   \"urban18\" \n",
              "[19] \"tuit17\"   \"tuit18\"   \"lwage\"    \"expersq\"  \"ctuit\"   "
            ],
            "text/latex": "\\begin{enumerate*}\n\\item 'wage'\n\\item 'abil'\n\\item 'educ'\n\\item 'ne'\n\\item 'nc'\n\\item 'west'\n\\item 'south'\n\\item 'exper'\n\\item 'motheduc'\n\\item 'fatheduc'\n\\item 'brkhme14'\n\\item 'sibs'\n\\item 'urban'\n\\item 'ne18'\n\\item 'nc18'\n\\item 'south18'\n\\item 'west18'\n\\item 'urban18'\n\\item 'tuit17'\n\\item 'tuit18'\n\\item 'lwage'\n\\item 'expersq'\n\\item 'ctuit'\n\\end{enumerate*}\n",
            "text/markdown": "1. 'wage'\n2. 'abil'\n3. 'educ'\n4. 'ne'\n5. 'nc'\n6. 'west'\n7. 'south'\n8. 'exper'\n9. 'motheduc'\n10. 'fatheduc'\n11. 'brkhme14'\n12. 'sibs'\n13. 'urban'\n14. 'ne18'\n15. 'nc18'\n16. 'south18'\n17. 'west18'\n18. 'urban18'\n19. 'tuit17'\n20. 'tuit18'\n21. 'lwage'\n22. 'expersq'\n23. 'ctuit'\n\n\n",
            "text/html": [
              "<ol class=list-inline>\n",
              "\t<li>'wage'</li>\n",
              "\t<li>'abil'</li>\n",
              "\t<li>'educ'</li>\n",
              "\t<li>'ne'</li>\n",
              "\t<li>'nc'</li>\n",
              "\t<li>'west'</li>\n",
              "\t<li>'south'</li>\n",
              "\t<li>'exper'</li>\n",
              "\t<li>'motheduc'</li>\n",
              "\t<li>'fatheduc'</li>\n",
              "\t<li>'brkhme14'</li>\n",
              "\t<li>'sibs'</li>\n",
              "\t<li>'urban'</li>\n",
              "\t<li>'ne18'</li>\n",
              "\t<li>'nc18'</li>\n",
              "\t<li>'south18'</li>\n",
              "\t<li>'west18'</li>\n",
              "\t<li>'urban18'</li>\n",
              "\t<li>'tuit17'</li>\n",
              "\t<li>'tuit18'</li>\n",
              "\t<li>'lwage'</li>\n",
              "\t<li>'expersq'</li>\n",
              "\t<li>'ctuit'</li>\n",
              "</ol>\n"
            ]
          },
          "metadata": {
            "tags": []
          }
        }
      ]
    },
    {
      "cell_type": "code",
      "metadata": {
        "id": "PbaPROXZKp6J",
        "colab_type": "code",
        "outputId": "e9773a28-e6da-4872-df95-5ec087a10ffe",
        "colab": {
          "base_uri": "https://localhost:8080/",
          "height": 72
        }
      },
      "source": [
        "r<-range(educ)\n",
        "print(r[2]-r[1])\n",
        "summary(educ)"
      ],
      "execution_count": 0,
      "outputs": [
        {
          "output_type": "stream",
          "text": [
            "[1] 14\n"
          ],
          "name": "stdout"
        },
        {
          "output_type": "display_data",
          "data": {
            "text/plain": [
              "   Min. 1st Qu.  Median    Mean 3rd Qu.    Max. \n",
              "   6.00   12.00   12.00   13.04   15.00   20.00 "
            ]
          },
          "metadata": {
            "tags": []
          }
        }
      ]
    },
    {
      "cell_type": "markdown",
      "metadata": {
        "id": "h5RFuEiNLB8a",
        "colab_type": "text"
      },
      "source": [
        "##### The range of educ variable in the sample is (6,20), i.e. minimum value is 6, maximum value is 20. Therefore the range is 14."
      ]
    },
    {
      "cell_type": "code",
      "metadata": {
        "id": "CI1sd1SLMliA",
        "colab_type": "code",
        "outputId": "fdc20725-a1cb-4cdb-f585-8cd860716623",
        "colab": {
          "base_uri": "https://localhost:8080/",
          "height": 70
        }
      },
      "source": [
        "mc2<-nrow(htv[educ == 12,])\n",
        "mc2\n",
        "n<-nrow(htv[educ])\n",
        "p<-(mc2/n)*100\n",
        "#print(p)\n",
        "cat(\"The percentage of men who completed twelfth grade = \", p)"
      ],
      "execution_count": 0,
      "outputs": [
        {
          "output_type": "display_data",
          "data": {
            "text/plain": [
              "[1] 512"
            ],
            "text/latex": "512",
            "text/markdown": "512",
            "text/html": [
              "512"
            ]
          },
          "metadata": {
            "tags": []
          }
        },
        {
          "output_type": "stream",
          "text": [
            "The percentage of men who completed twelfth grade =  41.62602"
          ],
          "name": "stdout"
        },
        {
          "output_type": "display_data",
          "data": {
            "text/plain": [
              "[1] 13.0374"
            ],
            "text/latex": "13.0373983739837",
            "text/markdown": "13.0373983739837",
            "text/html": [
              "13.0373983739837"
            ]
          },
          "metadata": {
            "tags": []
          }
        }
      ]
    },
    {
      "cell_type": "code",
      "metadata": {
        "id": "hXIeTglS9Zek",
        "colab_type": "code",
        "outputId": "c7980d8b-27bf-4ea8-e84f-646222fbd0bd",
        "colab": {
          "base_uri": "https://localhost:8080/",
          "height": 86
        }
      },
      "source": [
        "mean(educ)\n",
        "mean(motheduc)\n",
        "mean(fatheduc)\n",
        "(mean(motheduc)+mean(fatheduc))/2"
      ],
      "execution_count": 0,
      "outputs": [
        {
          "output_type": "display_data",
          "data": {
            "text/plain": [
              "[1] 13.0374"
            ],
            "text/latex": "13.0373983739837",
            "text/markdown": "13.0373983739837",
            "text/html": [
              "13.0373983739837"
            ]
          },
          "metadata": {
            "tags": []
          }
        },
        {
          "output_type": "display_data",
          "data": {
            "text/plain": [
              "[1] 12.17805"
            ],
            "text/latex": "12.1780487804878",
            "text/markdown": "12.1780487804878",
            "text/html": [
              "12.1780487804878"
            ]
          },
          "metadata": {
            "tags": []
          }
        },
        {
          "output_type": "display_data",
          "data": {
            "text/plain": [
              "[1] 12.44715"
            ],
            "text/latex": "12.4471544715447",
            "text/markdown": "12.4471544715447",
            "text/html": [
              "12.4471544715447"
            ]
          },
          "metadata": {
            "tags": []
          }
        },
        {
          "output_type": "display_data",
          "data": {
            "text/plain": [
              "[1] 12.3126"
            ],
            "text/latex": "12.3126016260163",
            "text/markdown": "12.3126016260163",
            "text/html": [
              "12.3126016260163"
            ]
          },
          "metadata": {
            "tags": []
          }
        }
      ]
    },
    {
      "cell_type": "markdown",
      "metadata": {
        "id": "_KPc-Zi7-QU7",
        "colab_type": "text"
      },
      "source": [
        "#####The average education of men in the sample is 13.0374 years, compared to the 12.17 years for mothers and 12.44 for fathers respectively. Even if we took the mean of fathers and mothers together and compared it with that of the men, it is still higher for the men."
      ]
    },
    {
      "cell_type": "code",
      "metadata": {
        "id": "MnnqYg8K-VCz",
        "colab_type": "code",
        "outputId": "606a0401-85cc-488f-8b98-b5e963202221",
        "colab": {
          "base_uri": "https://localhost:8080/",
          "height": 512
        }
      },
      "source": [
        "m1<-lm(educ~motheduc+fatheduc)\n",
        "m1\n",
        "summary(m1)\n",
        "n"
      ],
      "execution_count": 24,
      "outputs": [
        {
          "output_type": "display_data",
          "data": {
            "text/plain": [
              "\n",
              "Call:\n",
              "lm(formula = educ ~ motheduc + fatheduc)\n",
              "\n",
              "Coefficients:\n",
              "(Intercept)     motheduc     fatheduc  \n",
              "     6.9644       0.3042       0.1903  \n"
            ]
          },
          "metadata": {
            "tags": []
          }
        },
        {
          "output_type": "display_data",
          "data": {
            "text/plain": [
              "\n",
              "Call:\n",
              "lm(formula = educ ~ motheduc + fatheduc)\n",
              "\n",
              "Residuals:\n",
              "    Min      1Q  Median      3Q     Max \n",
              "-6.2898 -0.9400 -0.4037  1.1239  8.1672 \n",
              "\n",
              "Coefficients:\n",
              "            Estimate Std. Error t value Pr(>|t|)    \n",
              "(Intercept)  6.96435    0.31982  21.776   <2e-16 ***\n",
              "motheduc     0.30420    0.03193   9.528   <2e-16 ***\n",
              "fatheduc     0.19029    0.02228   8.539   <2e-16 ***\n",
              "---\n",
              "Signif. codes:  0 ‘***’ 0.001 ‘**’ 0.01 ‘*’ 0.05 ‘.’ 0.1 ‘ ’ 1\n",
              "\n",
              "Residual standard error: 2.042 on 1227 degrees of freedom\n",
              "Multiple R-squared:  0.2493,\tAdjusted R-squared:  0.248 \n",
              "F-statistic: 203.7 on 2 and 1227 DF,  p-value: < 2.2e-16\n"
            ]
          },
          "metadata": {
            "tags": []
          }
        },
        {
          "output_type": "display_data",
          "data": {
            "text/plain": [
              "[1] 1230"
            ],
            "text/latex": "1230",
            "text/markdown": "1230",
            "text/html": [
              "1230"
            ]
          },
          "metadata": {
            "tags": []
          }
        }
      ]
    },
    {
      "cell_type": "markdown",
      "metadata": {
        "id": "IuIl1dIh_U7p",
        "colab_type": "text"
      },
      "source": [
        "#The Linear regression model\n",
        "\n",
        "##### **_$educ$_**= 6.9644 + 0.3042 **_$motheduc$_** + 0.1903 **_$fatheduc$_**\n",
        "\n",
        "#####$n$ =1230\n",
        "#####$R^{2}$ = 0.2493\n",
        "\n",
        "The sample variation that is explained by the mother's and father's education is got by the $R^{2}$ of the fitted model and it comes to around 24.93%.The coefficient on mothers educaation denotes that for every additional grade per education, the concerned man's (adult male) education will be 0.3042 grades higher "
      ]
    },
    {
      "cell_type": "code",
      "metadata": {
        "id": "SkpELftmA1Ff",
        "colab_type": "code",
        "colab": {
          "base_uri": "https://localhost:8080/",
          "height": 530
        },
        "outputId": "4a12bbc2-ba36-4b21-9b9d-22f768cf698c"
      },
      "source": [
        "m2<-lm(educ~motheduc+fatheduc+abil)\n",
        "m2\n",
        "summary(m2)\n",
        "n"
      ],
      "execution_count": 25,
      "outputs": [
        {
          "output_type": "display_data",
          "data": {
            "text/plain": [
              "\n",
              "Call:\n",
              "lm(formula = educ ~ motheduc + fatheduc + abil)\n",
              "\n",
              "Coefficients:\n",
              "(Intercept)     motheduc     fatheduc         abil  \n",
              "     8.4487       0.1891       0.1111       0.5025  \n"
            ]
          },
          "metadata": {
            "tags": []
          }
        },
        {
          "output_type": "display_data",
          "data": {
            "text/plain": [
              "\n",
              "Call:\n",
              "lm(formula = educ ~ motheduc + fatheduc + abil)\n",
              "\n",
              "Residuals:\n",
              "   Min     1Q Median     3Q    Max \n",
              "-5.407 -1.195 -0.199  1.076  7.012 \n",
              "\n",
              "Coefficients:\n",
              "            Estimate Std. Error t value Pr(>|t|)    \n",
              "(Intercept)  8.44869    0.28954  29.180  < 2e-16 ***\n",
              "motheduc     0.18913    0.02851   6.635 4.87e-11 ***\n",
              "fatheduc     0.11109    0.01988   5.586 2.85e-08 ***\n",
              "abil         0.50248    0.02572  19.538  < 2e-16 ***\n",
              "---\n",
              "Signif. codes:  0 ‘***’ 0.001 ‘**’ 0.01 ‘*’ 0.05 ‘.’ 0.1 ‘ ’ 1\n",
              "\n",
              "Residual standard error: 1.784 on 1226 degrees of freedom\n",
              "Multiple R-squared:  0.4275,\tAdjusted R-squared:  0.4261 \n",
              "F-statistic: 305.2 on 3 and 1226 DF,  p-value: < 2.2e-16\n"
            ]
          },
          "metadata": {
            "tags": []
          }
        },
        {
          "output_type": "display_data",
          "data": {
            "text/plain": [
              "[1] 1230"
            ],
            "text/latex": "1230",
            "text/markdown": "1230",
            "text/html": [
              "1230"
            ]
          },
          "metadata": {
            "tags": []
          }
        }
      ]
    },
    {
      "cell_type": "markdown",
      "metadata": {
        "id": "i_OMI81VBE9e",
        "colab_type": "text"
      },
      "source": [
        "#The Linear regression model\n",
        "\n",
        "##### **_$educ$_**= 8.4487 + 0.1891 **_$motheduc$_** + 0.1111 **_$fatheduc$_** + 0.5025 **_$abil$_**\n",
        "\n",
        "#####$n$ =1230\n",
        "#####$R^{2}$ = 0.4275\n",
        "\n",
        "Ability helps explain the variations in education indicating that it is helpful to determine the variation in the dependent variable. The explanatory power of the model increaed to 42.75% after the addition of abil variable in the regression equation."
      ]
    },
    {
      "cell_type": "code",
      "metadata": {
        "id": "JzctAfBvNtCH",
        "colab_type": "code",
        "colab": {
          "base_uri": "https://localhost:8080/",
          "height": 735
        },
        "outputId": "41c125b5-8549-4641-df01-88fd0165df16"
      },
      "source": [
        "abil2<-abil*abil\n",
        "m3<-lm(educ~motheduc+fatheduc+abil+(abil2))\n",
        "m3\n",
        "summary(m3)\n",
        "n\n",
        "m3df<-as.data.frame(m3[1])\n",
        "m3df\n",
        "abil1<-m3df[4,]\n",
        "abil1sq<-m3df[5,]\n",
        "min.abil<--abil1/(abil1sq*2)\n",
        "min.abil"
      ],
      "execution_count": 34,
      "outputs": [
        {
          "output_type": "display_data",
          "data": {
            "text/plain": [
              "\n",
              "Call:\n",
              "lm(formula = educ ~ motheduc + fatheduc + abil + (abil2))\n",
              "\n",
              "Coefficients:\n",
              "(Intercept)     motheduc     fatheduc         abil        abil2  \n",
              "     8.2402       0.1901       0.1089       0.4015       0.0506  \n"
            ]
          },
          "metadata": {
            "tags": []
          }
        },
        {
          "output_type": "display_data",
          "data": {
            "text/plain": [
              "\n",
              "Call:\n",
              "lm(formula = educ ~ motheduc + fatheduc + abil + (abil2))\n",
              "\n",
              "Residuals:\n",
              "    Min      1Q  Median      3Q     Max \n",
              "-5.2506 -1.1274 -0.1355  1.0223  7.0482 \n",
              "\n",
              "Coefficients:\n",
              "            Estimate Std. Error t value Pr(>|t|)    \n",
              "(Intercept) 8.240226   0.287410  28.671  < 2e-16 ***\n",
              "motheduc    0.190126   0.028096   6.767 2.03e-11 ***\n",
              "fatheduc    0.108939   0.019601   5.558 3.35e-08 ***\n",
              "abil        0.401462   0.030288  13.255  < 2e-16 ***\n",
              "abil2       0.050599   0.008304   6.093 1.48e-09 ***\n",
              "---\n",
              "Signif. codes:  0 ‘***’ 0.001 ‘**’ 0.01 ‘*’ 0.05 ‘.’ 0.1 ‘ ’ 1\n",
              "\n",
              "Residual standard error: 1.758 on 1225 degrees of freedom\n",
              "Multiple R-squared:  0.4444,\tAdjusted R-squared:  0.4425 \n",
              "F-statistic: 244.9 on 4 and 1225 DF,  p-value: < 2.2e-16\n"
            ]
          },
          "metadata": {
            "tags": []
          }
        },
        {
          "output_type": "display_data",
          "data": {
            "text/plain": [
              "[1] 1230"
            ],
            "text/latex": "1230",
            "text/markdown": "1230",
            "text/html": [
              "1230"
            ]
          },
          "metadata": {
            "tags": []
          }
        },
        {
          "output_type": "display_data",
          "data": {
            "text/plain": [
              "            coefficients\n",
              "(Intercept) 8.24022643  \n",
              "motheduc    0.19012613  \n",
              "fatheduc    0.10893866  \n",
              "abil        0.40146240  \n",
              "abil2       0.05059901  "
            ],
            "text/latex": "A data.frame: 5 × 1\n\\begin{tabular}{r|l}\n  & coefficients\\\\\n  & <dbl>\\\\\n\\hline\n\t(Intercept) & 8.24022643\\\\\n\tmotheduc & 0.19012613\\\\\n\tfatheduc & 0.10893866\\\\\n\tabil & 0.40146240\\\\\n\tabil2 & 0.05059901\\\\\n\\end{tabular}\n",
            "text/markdown": "\nA data.frame: 5 × 1\n\n| <!--/--> | coefficients &lt;dbl&gt; |\n|---|---|\n| (Intercept) | 8.24022643 |\n| motheduc | 0.19012613 |\n| fatheduc | 0.10893866 |\n| abil | 0.40146240 |\n| abil2 | 0.05059901 |\n\n",
            "text/html": [
              "<table>\n",
              "<caption>A data.frame: 5 × 1</caption>\n",
              "<thead>\n",
              "\t<tr><th></th><th scope=col>coefficients</th></tr>\n",
              "\t<tr><th></th><th scope=col>&lt;dbl&gt;</th></tr>\n",
              "</thead>\n",
              "<tbody>\n",
              "\t<tr><th scope=row>(Intercept)</th><td>8.24022643</td></tr>\n",
              "\t<tr><th scope=row>motheduc</th><td>0.19012613</td></tr>\n",
              "\t<tr><th scope=row>fatheduc</th><td>0.10893866</td></tr>\n",
              "\t<tr><th scope=row>abil</th><td>0.40146240</td></tr>\n",
              "\t<tr><th scope=row>abil2</th><td>0.05059901</td></tr>\n",
              "</tbody>\n",
              "</table>\n"
            ]
          },
          "metadata": {
            "tags": []
          }
        },
        {
          "output_type": "display_data",
          "data": {
            "text/plain": [
              "[1] -3.967098"
            ],
            "text/latex": "-3.96709768882038",
            "text/markdown": "-3.96709768882038",
            "text/html": [
              "-3.96709768882038"
            ]
          },
          "metadata": {
            "tags": []
          }
        }
      ]
    },
    {
      "cell_type": "markdown",
      "metadata": {
        "id": "yfufrL2MOJQ_",
        "colab_type": "text"
      },
      "source": [
        "\n",
        "##### **_$educ$_**= 8.2402 + 0.1901 **_$motheduc$_** + 0.1089 **_$fatheduc$_** + 0.4015 **_$abil$_** + 0.0506 **_$abil^{2}$_**\n",
        "\n",
        "#####$n$ =1230\n",
        "#####$R^{2}$ = 0.4444\n",
        "\n",
        "Differentiating Educ with respect to abil, we get the following\n",
        "d(Educ)/d(abil) = 0.4015 + 0.1012 **_$abil$_**\n",
        "\n",
        "$abil^{*}$ = -0.4015/0.1012 = -3.97\n",
        "Since the value is greater than zero, we have a minimum"
      ]
    },
    {
      "cell_type": "code",
      "metadata": {
        "id": "ZV0q9jrMROhE",
        "colab_type": "code",
        "colab": {
          "base_uri": "https://localhost:8080/",
          "height": 34
        },
        "outputId": "9bdc673a-5f7a-42cb-9cc3-7a8d623c2a82"
      },
      "source": [
        "nrow(htv[abil <= min.abil,])"
      ],
      "execution_count": 35,
      "outputs": [
        {
          "output_type": "display_data",
          "data": {
            "text/plain": [
              "[1] 15"
            ],
            "text/latex": "15",
            "text/markdown": "15",
            "text/html": [
              "15"
            ]
          },
          "metadata": {
            "tags": []
          }
        }
      ]
    },
    {
      "cell_type": "markdown",
      "metadata": {
        "id": "_Uf6vSelS_-x",
        "colab_type": "text"
      },
      "source": [
        "#####This is important since there are only 15 individuals who will have a higher expected education level than individuals to slightly right of -3.97. In other words, there are only 15 values of the equation that are counter-intuitive."
      ]
    }
  ]
}