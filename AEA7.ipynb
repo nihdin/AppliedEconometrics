{
  "nbformat": 4,
  "nbformat_minor": 0,
  "metadata": {
    "colab": {
      "name": "AEA7.ipynb",
      "provenance": [],
      "collapsed_sections": [],
      "authorship_tag": "ABX9TyOb01gws5Ww1AQbcCJXqdai",
      "include_colab_link": true
    },
    "kernelspec": {
      "name": "ir",
      "display_name": "R"
    }
  },
  "cells": [
    {
      "cell_type": "markdown",
      "metadata": {
        "id": "view-in-github",
        "colab_type": "text"
      },
      "source": [
        "<a href=\"https://colab.research.google.com/github/nihdin/AppliedEconometrics/blob/master/AEA7.ipynb\" target=\"_parent\"><img src=\"https://colab.research.google.com/assets/colab-badge.svg\" alt=\"Open In Colab\"/></a>"
      ]
    },
    {
      "cell_type": "markdown",
      "metadata": {
        "id": "oJWfgTi0q8Qp",
        "colab_type": "text"
      },
      "source": [
        "W16.4\n",
        "\n",
        "\n",
        "For the second condition, the rank condition will not hold. Comparing the first and second equations, there are no exogenous variables that appear in the first equation, that are not present in the second equation. When the value of ϒ3 is different from zero (as stated in the question), the equation 1 can be identified. We would presume the value of ϒ3 to be less than zero by intuition. This will lead us to get an exogenous variable, log(price) that can be used as an Instrumental variable for alcohol in estimating the first equation by 2SLS"
      ]
    },
    {
      "cell_type": "code",
      "metadata": {
        "id": "Fgn5Lv_OtRW1",
        "colab_type": "code",
        "outputId": "c599d1a7-be44-4292-e2dc-4cddbea95489",
        "colab": {
          "base_uri": "https://localhost:8080/",
          "height": 581
        }
      },
      "source": [
        "install.packages(\"wooldridge\")\n",
        "library(wooldridge)\n",
        "install.packages(\"systemfit\")\n",
        "library(systemfit)"
      ],
      "execution_count": 3,
      "outputs": [
        {
          "output_type": "stream",
          "text": [
            "Installing package into ‘/usr/local/lib/R/site-library’\n",
            "(as ‘lib’ is unspecified)\n",
            "\n",
            "Installing package into ‘/usr/local/lib/R/site-library’\n",
            "(as ‘lib’ is unspecified)\n",
            "\n",
            "Loading required package: Matrix\n",
            "\n",
            "Loading required package: car\n",
            "\n",
            "Loading required package: carData\n",
            "\n",
            "Loading required package: lmtest\n",
            "\n",
            "Loading required package: zoo\n",
            "\n",
            "\n",
            "Attaching package: ‘zoo’\n",
            "\n",
            "\n",
            "The following objects are masked from ‘package:base’:\n",
            "\n",
            "    as.Date, as.Date.numeric\n",
            "\n",
            "\n",
            "\n",
            "Please cite the 'systemfit' package as:\n",
            "Arne Henningsen and Jeff D. Hamann (2007). systemfit: A Package for Estimating Systems of Simultaneous Equations in R. Journal of Statistical Software 23(4), 1-40. http://www.jstatsoft.org/v23/i04/.\n",
            "\n",
            "If you have questions, suggestions, or comments regarding the 'systemfit' package, please use a forum or 'tracker' at systemfit's R-Forge site:\n",
            "https://r-forge.r-project.org/projects/systemfit/\n",
            "\n"
          ],
          "name": "stderr"
        }
      ]
    },
    {
      "cell_type": "code",
      "metadata": {
        "id": "zfdDf3dftd6T",
        "colab_type": "code",
        "colab": {}
      },
      "source": [
        "attach(smoke)"
      ],
      "execution_count": 0,
      "outputs": []
    },
    {
      "cell_type": "code",
      "metadata": {
        "id": "Reuo7CcatsMt",
        "colab_type": "code",
        "outputId": "ca65fd6b-37d1-40b5-d044-8cb9398fc3c6",
        "colab": {
          "base_uri": "https://localhost:8080/",
          "height": 493
        }
      },
      "source": [
        "age2<-age*age\n",
        "m1<-lm(log(income)~cigs+educ+age+ age2)\n",
        "m1\n",
        "summary(m1)"
      ],
      "execution_count": 5,
      "outputs": [
        {
          "output_type": "display_data",
          "data": {
            "text/plain": [
              "\n",
              "Call:\n",
              "lm(formula = log(income) ~ cigs + educ + age + age2)\n",
              "\n",
              "Coefficients:\n",
              "(Intercept)         cigs         educ          age         age2  \n",
              "  7.7954433    0.0017306    0.0603606    0.0576908   -0.0006306  \n"
            ]
          },
          "metadata": {
            "tags": []
          }
        },
        {
          "output_type": "display_data",
          "data": {
            "text/plain": [
              "\n",
              "Call:\n",
              "lm(formula = log(income) ~ cigs + educ + age + age2)\n",
              "\n",
              "Residuals:\n",
              "    Min      1Q  Median      3Q     Max \n",
              "-3.6237 -0.2978  0.1314  0.4167  1.3542 \n",
              "\n",
              "Coefficients:\n",
              "              Estimate Std. Error t value Pr(>|t|)    \n",
              "(Intercept)  7.795e+00  1.704e-01  45.741  < 2e-16 ***\n",
              "cigs         1.731e-03  1.714e-03   1.010    0.313    \n",
              "educ         6.036e-02  7.898e-03   7.642 6.10e-14 ***\n",
              "age          5.769e-02  7.644e-03   7.548 1.21e-13 ***\n",
              "age2        -6.306e-04  8.338e-05  -7.563 1.08e-13 ***\n",
              "---\n",
              "Signif. codes:  0 ‘***’ 0.001 ‘**’ 0.01 ‘*’ 0.05 ‘.’ 0.1 ‘ ’ 1\n",
              "\n",
              "Residual standard error: 0.6529 on 802 degrees of freedom\n",
              "Multiple R-squared:  0.165,\tAdjusted R-squared:  0.1608 \n",
              "F-statistic: 39.61 on 4 and 802 DF,  p-value: < 2.2e-16\n"
            ]
          },
          "metadata": {
            "tags": []
          }
        }
      ]
    },
    {
      "cell_type": "markdown",
      "metadata": {
        "id": "gbK7EGym5Syy",
        "colab_type": "text"
      },
      "source": [
        "Assuming the causal relationship, we interpret $\\beta_1$ as follows. 100*$\\beta_1$ is the approximate change in the income if the individual smokes an extra cigarette per day.\n",
        "\n",
        "Since consumption and price are negatively related with everything else remaining constant, we do expect that $\\gamma_5$ to be less than or equal to zero. In a similar manner, we can understand that the restaurant smoking restrictions should reduce cigarette smoking and therefor $\\gamma_6$ should also be less than or equal to zero."
      ]
    },
    {
      "cell_type": "markdown",
      "metadata": {
        "id": "sSl6c8ke6zjE",
        "colab_type": "text"
      },
      "source": [
        "The incom equation from part (i) is identified when we have $\\gamma_5$ or $\\gamma_6$ is different from the value zero. In other words, we need one exogenous variable that is not in the log(income) equation."
      ]
    },
    {
      "cell_type": "markdown",
      "metadata": {
        "id": "IIrxGvtb7lQb",
        "colab_type": "text"
      },
      "source": [
        "#####log (**_$income$_**) = 7.80 + 0.0017 **_$cigs$_** + 0.060 **_$educ$_** + 0.058 **_$age$_** - 0.00063 **_$age^{2}$_**\n",
        "\n",
        "**_$n$_**= 807\n",
        "**_$R^{2}$_**= 0.165\n",
        "\n",
        "The coefficient on **_$cigs$_** (**_$\\beta_1$_**) implies that smoking cigarattes will cause income to increase, even though the coefficient is not statistically different from zero."
      ]
    },
    {
      "cell_type": "code",
      "metadata": {
        "id": "YTMgEY2c9-mC",
        "colab_type": "code",
        "outputId": "75fc5a35-ed56-4faa-ce20-46bedefcb1d5",
        "colab": {
          "base_uri": "https://localhost:8080/",
          "height": 544
        }
      },
      "source": [
        "m2<-lm(cigs~educ+age+age2+log(cigpric)+restaurn)\n",
        "m2\n",
        "summary(m2)"
      ],
      "execution_count": 6,
      "outputs": [
        {
          "output_type": "display_data",
          "data": {
            "text/plain": [
              "\n",
              "Call:\n",
              "lm(formula = cigs ~ educ + age + age2 + log(cigpric) + restaurn)\n",
              "\n",
              "Coefficients:\n",
              " (Intercept)          educ           age          age2  log(cigpric)  \n",
              "     1.58013      -0.45015       0.82254      -0.00959      -0.35132  \n",
              "    restaurn  \n",
              "    -2.73639  \n"
            ]
          },
          "metadata": {
            "tags": []
          }
        },
        {
          "output_type": "display_data",
          "data": {
            "text/plain": [
              "\n",
              "Call:\n",
              "lm(formula = cigs ~ educ + age + age2 + log(cigpric) + restaurn)\n",
              "\n",
              "Residuals:\n",
              "    Min      1Q  Median      3Q     Max \n",
              "-15.078  -9.312  -6.246   8.038  70.329 \n",
              "\n",
              "Coefficients:\n",
              "              Estimate Std. Error t value Pr(>|t|)    \n",
              "(Intercept)   1.580127  23.695583   0.067  0.94685    \n",
              "educ         -0.450147   0.161640  -2.785  0.00548 ** \n",
              "age           0.822541   0.154322   5.330 1.28e-07 ***\n",
              "age2         -0.009590   0.001679  -5.711 1.58e-08 ***\n",
              "log(cigpric) -0.351320   5.765550  -0.061  0.95143    \n",
              "restaurn     -2.736389   1.109693  -2.466  0.01388 *  \n",
              "---\n",
              "Signif. codes:  0 ‘***’ 0.001 ‘**’ 0.01 ‘*’ 0.05 ‘.’ 0.1 ‘ ’ 1\n",
              "\n",
              "Residual standard error: 13.41 on 801 degrees of freedom\n",
              "Multiple R-squared:  0.051,\tAdjusted R-squared:  0.04508 \n",
              "F-statistic:  8.61 on 5 and 801 DF,  p-value: 5.859e-08\n"
            ]
          },
          "metadata": {
            "tags": []
          }
        }
      ]
    },
    {
      "cell_type": "markdown",
      "metadata": {
        "id": "A7PK6dSn-p7W",
        "colab_type": "text"
      },
      "source": [
        "#####**_$cigs$_** = 1.5801 - 0.4501 **_$educ$_** + 0.8225 **_$age$_** - 0.0096 **_$age^{2}$_** - 0.3513 **_$log(cigpric$_**) -2.7364 **_$restaurn$_**\n",
        "\n",
        "**_$n$_**= 807\n",
        "**_$R^{2}$_**= 0.051\n",
        "\n",
        "log(**_$cigpric$_**) is not statistically significant. But **_$restaurn$_** has a t statitsic of -2.466 and a negative sign. **_$restaurn$_** is statitsically signicant at a p-value less than 0.05"
      ]
    },
    {
      "cell_type": "code",
      "metadata": {
        "id": "swPxIR0j_OZY",
        "colab_type": "code",
        "colab": {
          "base_uri": "https://localhost:8080/",
          "height": 1000
        },
        "outputId": "3b4e06f4-a1fd-4ae8-a02b-8e3751d660c5"
      },
      "source": [
        "k1=log(income)~cigs+educ+age+ age2\n",
        "k2=cigs ~ educ + age + age2 + log(cigpric) + restaurn\n",
        "sys= list(k1, k2)\n",
        "iv= ~educ+age+age2+lcigpric+restaurn\n",
        "fit.sys= systemfit(sys, inst=iv, method=\"2SLS\")\n",
        "summary(fit.sys)"
      ],
      "execution_count": 7,
      "outputs": [
        {
          "output_type": "display_data",
          "data": {
            "text/plain": [
              "\n",
              "systemfit results \n",
              "method: 2SLS \n",
              "\n",
              "          N   DF    SSR detRCov   OLS-R2 McElroy-R2\n",
              "system 1614 1603 144635 76.1474 0.049477   0.332442\n",
              "\n",
              "      N  DF        SSR        MSE      RMSE        R2    Adj R2\n",
              "eq1 807 802    621.013   0.774331  0.879961 -0.516902 -0.524467\n",
              "eq2 807 801 144013.531 179.792173 13.408660  0.051005  0.045081\n",
              "\n",
              "The covariance matrix of the residuals\n",
              "         eq1       eq2\n",
              "eq1 0.774331   7.94174\n",
              "eq2 7.941741 179.79217\n",
              "\n",
              "The correlations of the residuals\n",
              "         eq1      eq2\n",
              "eq1 1.000000 0.673081\n",
              "eq2 0.673081 1.000000\n",
              "\n",
              "\n",
              "2SLS estimates for 'eq1' (equation 1)\n",
              "Model Formula: log(income) ~ cigs + educ + age + age2\n",
              "Instruments: ~educ + age + age2 + lcigpric + restaurn\n",
              "\n",
              "                Estimate   Std. Error  t value   Pr(>|t|)    \n",
              "(Intercept)  7.780893233  0.229867343 33.84949 < 2.22e-16 ***\n",
              "cigs        -0.042125739  0.026218445 -1.60672 0.10850910    \n",
              "educ         0.039674613  0.016281067  2.43686 0.01503207 *  \n",
              "age          0.093818217  0.023853373  3.93312 9.1106e-05 ***\n",
              "age2        -0.001050832  0.000274331 -3.83052 0.00013785 ***\n",
              "---\n",
              "Signif. codes:  0 ‘***’ 0.001 ‘**’ 0.01 ‘*’ 0.05 ‘.’ 0.1 ‘ ’ 1\n",
              "\n",
              "Residual standard error: 0.879961 on 802 degrees of freedom\n",
              "Number of observations: 807 Degrees of Freedom: 802 \n",
              "SSR: 621.013453 MSE: 0.774331 Root MSE: 0.879961 \n",
              "Multiple R-Squared: -0.516902 Adjusted R-Squared: -0.524467 \n",
              "\n",
              "\n",
              "2SLS estimates for 'eq2' (equation 2)\n",
              "Model Formula: cigs ~ educ + age + age2 + log(cigpric) + restaurn\n",
              "Instruments: ~educ + age + age2 + lcigpric + restaurn\n",
              "\n",
              "                Estimate  Std. Error  t value   Pr(>|t|)    \n",
              "(Intercept)   1.58011166 23.69558304  0.06668  0.9468501    \n",
              "educ         -0.45014659  0.16163957 -2.78488  0.0054811 ** \n",
              "age           0.82254097  0.15432243  5.33002 1.2778e-07 ***\n",
              "age2         -0.00959030  0.00167918 -5.71130 1.5800e-08 ***\n",
              "log(cigpric) -0.35131610  5.76554981 -0.06093  0.9514272    \n",
              "restaurn     -2.73638926  1.10969308 -2.46590  0.0138756 *  \n",
              "---\n",
              "Signif. codes:  0 ‘***’ 0.001 ‘**’ 0.01 ‘*’ 0.05 ‘.’ 0.1 ‘ ’ 1\n",
              "\n",
              "Residual standard error: 13.40866 on 801 degrees of freedom\n",
              "Number of observations: 807 Degrees of Freedom: 801 \n",
              "SSR: 144013.53062 MSE: 179.792173 Root MSE: 13.40866 \n",
              "Multiple R-Squared: 0.051005 Adjusted R-Squared: 0.045081 \n"
            ]
          },
          "metadata": {
            "tags": []
          }
        }
      ]
    },
    {
      "cell_type": "markdown",
      "metadata": {
        "id": "1-iHYFP-PmeM",
        "colab_type": "text"
      },
      "source": [
        "#####log (**_$income$_**) = 7.78 - 0.042 **_$cigs$_** + 0.040 **_$educ$_** + 0.094 **_$age$_** - 0.00105 **_$age^{2}$_**\n",
        "\n",
        "**_$n$_** =807\n",
        "\n",
        "The coefficient on **_$cigs$_** is less than zero (negative) and not statistically significant at 5% (It is almost significant at the 10%) against a two sided alternative. The estimated effect is large and can be interpreted as that each cigarette that is adittionally smoken lowers the predicted income by about 4.2%\n",
        "\n",
        "\n",
        "By assuming that the state level cigarette prices and restaurant smoking restrictions are exogenous in the income equation is a cause of problem. Incomes can vary by region as restaurant smoking restrictions. In places where income is lower, the restrictions in smoking in restaurants are less likely (controlling for education and age)"
      ]
    },
    {
      "cell_type": "code",
      "metadata": {
        "id": "SmgC7hTFRG2V",
        "colab_type": "code",
        "colab": {}
      },
      "source": [
        "attach(cement)\n",
        "n1<-lm(gprc~gcem+gprcpet+feb+mar+apr+may+jun+jul+aug+sep+oct+nov+dec)\n",
        "n1\n",
        "summary(n1)\n",
        "n2<-lm(gcem~gdefs+gprcpet+feb+mar+apr+may+jun+jul+aug+sep+oct+nov+dec)\n",
        "n2\n",
        "summary(n2)\n",
        "n3<-lm(gcem~gres+gnon+gprcpet+feb+mar+apr+may+jun+jul+aug+sep+oct+nov+dec)\n",
        "n3\n",
        "summary(n3)\n",
        "#n4<-lm(gprc~gcem+gprcpet+feb+mar+apr+may+jun+jul+aug+sep+oct+nov+dec)\n",
        "#n4\n",
        "#summary(n4)"
      ],
      "execution_count": 0,
      "outputs": []
    },
    {
      "cell_type": "markdown",
      "metadata": {
        "id": "X95GZOF-SsHu",
        "colab_type": "text"
      },
      "source": [
        "When we estimate by OLS, we can see the result as above. The coefficient of $gcem$ and $gprcpet$ are statistically significant. The estimated supply curve slopes down. The coefficient of gcem is negative while that of gprcet is positive.\n",
        "\n",
        "We would need $gdefs$ to have a non zero coefficiet in the reduced form for $gcem$. As you can see from model n2, the coefficient of gdefs is -1.0541. The p value is not significant and therefore we cannot reject the null hypothesis, and we can conclude that $gdefs$ is not a useful IV for gcem, eventhough it is exogeneous.\n",
        "\n",
        "\n",
        "From model n3, we can find out that the coefficient of $gres$ is 0.1361, and that of $gnon$ is 1.15. The $gnon$ is statistically significant and therefore we can go ahead with the Instrument Variable estimation\n",
        "\n",
        "####$gprc$= 0.228 - 0.0106$gcem$ + 0.0605 $gprcpet$ + ...\n",
        "$n$= 298 $R^{2}$=0.36 \n",
        "\n",
        "From model for 2SLS, the coefficient on $gcem$ is negative and is only about one-fourth the size of the OLS coefficient and is insignificant. We can conclude that the static supply function for cement can be horizontal with gprc on the vertical axis. \n",
        "\n"
      ]
    },
    {
      "cell_type": "code",
      "metadata": {
        "id": "Yj1McmFNbx8i",
        "colab_type": "code",
        "colab": {
          "base_uri": "https://localhost:8080/",
          "height": 374
        },
        "outputId": "a7193a7c-5052-40b8-8442-6f425a784d72"
      },
      "source": [
        "airfare1<-subset(airfare, year==1997)\n",
        "attach(airfare1)\n",
        "summary(airfare1)"
      ],
      "execution_count": 43,
      "outputs": [
        {
          "output_type": "display_data",
          "data": {
            "text/plain": [
              "      year            id            dist            passen          fare      \n",
              " Min.   :1997   Min.   :   1   Min.   :  95.0   Min.   :  27   Min.   : 37.0  \n",
              " 1st Qu.:1997   1st Qu.: 288   1st Qu.: 505.0   1st Qu.: 209   1st Qu.:116.0  \n",
              " Median :1997   Median : 575   Median : 861.0   Median : 340   Median :160.0  \n",
              " Mean   :1997   Mean   : 575   Mean   : 989.7   Mean   : 601   Mean   :173.8  \n",
              " 3rd Qu.:1997   3rd Qu.: 862   3rd Qu.:1304.0   3rd Qu.: 674   3rd Qu.:225.0  \n",
              " Max.   :1997   Max.   :1149   Max.   :2724.0   Max.   :7637   Max.   :460.0  \n",
              "    bmktshr           ldist            y98         y99         y00   \n",
              " Min.   :0.1920   Min.   :4.554   Min.   :0   Min.   :0   Min.   :0  \n",
              " 1st Qu.:0.4587   1st Qu.:6.225   1st Qu.:0   1st Qu.:0   1st Qu.:0  \n",
              " Median :0.6156   Median :6.758   Median :0   Median :0   Median :0  \n",
              " Mean   :0.6125   Mean   :6.696   Mean   :0   Mean   :0   Mean   :0  \n",
              " 3rd Qu.:0.7579   3rd Qu.:7.173   3rd Qu.:0   3rd Qu.:0   3rd Qu.:0  \n",
              " Max.   :1.0000   Max.   :7.910   Max.   :0   Max.   :0   Max.   :0  \n",
              "     lfare          ldistsq          concen          lpassen     \n",
              " Min.   :3.611   Min.   :20.74   Min.   :0.1920   Min.   :3.296  \n",
              " 1st Qu.:4.754   1st Qu.:38.75   1st Qu.:0.4587   1st Qu.:5.342  \n",
              " Median :5.075   Median :45.67   Median :0.6156   Median :5.829  \n",
              " Mean   :5.057   Mean   :45.28   Mean   :0.6125   Mean   :5.976  \n",
              " 3rd Qu.:5.416   3rd Qu.:51.45   3rd Qu.:0.7579   3rd Qu.:6.513  \n",
              " Max.   :6.131   Max.   :62.57   Max.   :1.0000   Max.   :8.941  "
            ]
          },
          "metadata": {
            "tags": []
          }
        }
      ]
    },
    {
      "cell_type": "code",
      "metadata": {
        "id": "zoLH9hi4dr5f",
        "colab_type": "code",
        "colab": {
          "base_uri": "https://localhost:8080/",
          "height": 1000
        },
        "outputId": "f3bc44d3-bff2-4717-d83e-edf3e11d9c51"
      },
      "source": [
        "ld2<-((log(dist))^2)\n",
        "p1<-lm(log(passen)~log(fare)+log(dist)+ld2)\n",
        "p1\n",
        "summary(p1)\n",
        "Ols_4=lm(lpassen~lfare+ldist+ldistsq, data=airfare1)\n",
        "summary(Ols_4)\n",
        "reg4= lm(lfare~ldist+ldistsq+concen, data=airfare1)\n",
        "summary(reg4)\n",
        "model7= lpassen~lfare+ldist+ldistsq\n",
        "model8= lfare~ldistsq+ldistsq+concen\n",
        "sys4=list(model7, model8)\n",
        "iv4= ~ldist+ldistsq+concen\n",
        "fit.sys4= systemfit(sys4, inst=iv4, method=\"2SLS\", data=airfare1)\n",
        "summary(fit.sys4)"
      ],
      "execution_count": 44,
      "outputs": [
        {
          "output_type": "display_data",
          "data": {
            "text/plain": [
              "\n",
              "Call:\n",
              "lm(formula = log(passen) ~ log(fare) + log(dist) + ld2)\n",
              "\n",
              "Coefficients:\n",
              "(Intercept)    log(fare)    log(dist)          ld2  \n",
              "    13.2296      -0.3912      -1.5705       0.1158  \n"
            ]
          },
          "metadata": {
            "tags": []
          }
        },
        {
          "output_type": "display_data",
          "data": {
            "text/plain": [
              "\n",
              "Call:\n",
              "lm(formula = log(passen) ~ log(fare) + log(dist) + ld2)\n",
              "\n",
              "Residuals:\n",
              "    Min      1Q  Median      3Q     Max \n",
              "-2.8175 -0.5859 -0.1259  0.5307  3.1557 \n",
              "\n",
              "Coefficients:\n",
              "            Estimate Std. Error t value Pr(>|t|)    \n",
              "(Intercept) 13.22961    2.10015   6.299 4.25e-10 ***\n",
              "log(fare)   -0.39117    0.06725  -5.817 7.78e-09 ***\n",
              "log(dist)   -1.57048    0.62852  -2.499   0.0126 *  \n",
              "ld2          0.11576    0.04772   2.426   0.0154 *  \n",
              "---\n",
              "Signif. codes:  0 ‘***’ 0.001 ‘**’ 0.01 ‘*’ 0.05 ‘.’ 0.1 ‘ ’ 1\n",
              "\n",
              "Residual standard error: 0.824 on 1145 degrees of freedom\n",
              "Multiple R-squared:  0.05674,\tAdjusted R-squared:  0.05426 \n",
              "F-statistic: 22.96 on 3 and 1145 DF,  p-value: 1.961e-14\n"
            ]
          },
          "metadata": {
            "tags": []
          }
        },
        {
          "output_type": "display_data",
          "data": {
            "text/plain": [
              "\n",
              "Call:\n",
              "lm(formula = lpassen ~ lfare + ldist + ldistsq, data = airfare1)\n",
              "\n",
              "Residuals:\n",
              "    Min      1Q  Median      3Q     Max \n",
              "-2.8175 -0.5859 -0.1259  0.5307  3.1557 \n",
              "\n",
              "Coefficients:\n",
              "            Estimate Std. Error t value Pr(>|t|)    \n",
              "(Intercept) 13.22961    2.10015   6.299 4.25e-10 ***\n",
              "lfare       -0.39117    0.06725  -5.817 7.78e-09 ***\n",
              "ldist       -1.57048    0.62852  -2.499   0.0126 *  \n",
              "ldistsq      0.11576    0.04772   2.426   0.0154 *  \n",
              "---\n",
              "Signif. codes:  0 ‘***’ 0.001 ‘**’ 0.01 ‘*’ 0.05 ‘.’ 0.1 ‘ ’ 1\n",
              "\n",
              "Residual standard error: 0.824 on 1145 degrees of freedom\n",
              "Multiple R-squared:  0.05674,\tAdjusted R-squared:  0.05426 \n",
              "F-statistic: 22.96 on 3 and 1145 DF,  p-value: 1.961e-14\n"
            ]
          },
          "metadata": {
            "tags": []
          }
        },
        {
          "output_type": "display_data",
          "data": {
            "text/plain": [
              "\n",
              "Call:\n",
              "lm(formula = lfare ~ ldist + ldistsq + concen, data = airfare1)\n",
              "\n",
              "Residuals:\n",
              "     Min       1Q   Median       3Q      Max \n",
              "-1.30251 -0.26202 -0.03003  0.25920  0.99541 \n",
              "\n",
              "Coefficients:\n",
              "            Estimate Std. Error t value Pr(>|t|)    \n",
              "(Intercept)  6.19005    0.88988   6.956 5.87e-12 ***\n",
              "ldist       -0.93607    0.27184  -3.443 0.000595 ***\n",
              "ldistsq      0.10807    0.02062   5.240 1.91e-07 ***\n",
              "concen       0.39504    0.06272   6.299 4.27e-10 ***\n",
              "---\n",
              "Signif. codes:  0 ‘***’ 0.001 ‘**’ 0.01 ‘*’ 0.05 ‘.’ 0.1 ‘ ’ 1\n",
              "\n",
              "Residual standard error: 0.356 on 1145 degrees of freedom\n",
              "Multiple R-squared:  0.4076,\tAdjusted R-squared:  0.406 \n",
              "F-statistic: 262.6 on 3 and 1145 DF,  p-value: < 2.2e-16\n"
            ]
          },
          "metadata": {
            "tags": []
          }
        },
        {
          "output_type": "display_data",
          "data": {
            "text/plain": [
              "\n",
              "systemfit results \n",
              "method: 2SLS \n",
              "\n",
              "          N   DF     SSR  detRCov   OLS-R2 McElroy-R2\n",
              "system 2298 2291 1016.09 0.086625 0.049659   0.364487\n",
              "\n",
              "       N   DF     SSR      MSE     RMSE        R2    Adj R2\n",
              "eq1 1149 1145 869.476 0.759368 0.871417 -0.054897 -0.057660\n",
              "eq2 1149 1146 146.618 0.127939 0.357686  0.401460  0.400415\n",
              "\n",
              "The covariance matrix of the residuals\n",
              "         eq1      eq2\n",
              "eq1 0.759368 0.102607\n",
              "eq2 0.102607 0.127939\n",
              "\n",
              "The correlations of the residuals\n",
              "         eq1      eq2\n",
              "eq1 1.000000 0.329192\n",
              "eq2 0.329192 1.000000\n",
              "\n",
              "\n",
              "2SLS estimates for 'eq1' (equation 1)\n",
              "Model Formula: lpassen ~ lfare + ldist + ldistsq\n",
              "Instruments: ~ldist + ldistsq + concen\n",
              "\n",
              "              Estimate Std. Error  t value   Pr(>|t|)    \n",
              "(Intercept) 18.0137490  3.2224815  5.59002 2.8367e-08 ***\n",
              "lfare       -1.1739978  0.3886211 -3.02093  0.0025759 ** \n",
              "ldist       -2.1756654  0.7273403 -2.99126  0.0028377 ** \n",
              "ldistsq      0.1870288  0.0612885  3.05161  0.0023286 ** \n",
              "---\n",
              "Signif. codes:  0 ‘***’ 0.001 ‘**’ 0.01 ‘*’ 0.05 ‘.’ 0.1 ‘ ’ 1\n",
              "\n",
              "Residual standard error: 0.871417 on 1145 degrees of freedom\n",
              "Number of observations: 1149 Degrees of Freedom: 1145 \n",
              "SSR: 869.476324 MSE: 0.759368 Root MSE: 0.871417 \n",
              "Multiple R-Squared: -0.054897 Adjusted R-Squared: -0.05766 \n",
              "\n",
              "\n",
              "2SLS estimates for 'eq2' (equation 2)\n",
              "Model Formula: lfare ~ ldistsq + ldistsq + concen\n",
              "Instruments: ~ldist + ldistsq + concen\n",
              "\n",
              "              Estimate Std. Error  t value   Pr(>|t|)    \n",
              "(Intercept) 3.14188186 0.09141743 34.36852 < 2.22e-16 ***\n",
              "ldistsq     0.03722598 0.00142368 26.14766 < 2.22e-16 ***\n",
              "concen      0.37447831 0.06272817  5.96986 3.1627e-09 ***\n",
              "---\n",
              "Signif. codes:  0 ‘***’ 0.001 ‘**’ 0.01 ‘*’ 0.05 ‘.’ 0.1 ‘ ’ 1\n",
              "\n",
              "Residual standard error: 0.357686 on 1146 degrees of freedom\n",
              "Number of observations: 1149 Degrees of Freedom: 1146 \n",
              "SSR: 146.61837 MSE: 0.127939 Root MSE: 0.357686 \n",
              "Multiple R-Squared: 0.40146 Adjusted R-Squared: 0.400415 \n"
            ]
          },
          "metadata": {
            "tags": []
          }
        }
      ]
    },
    {
      "cell_type": "code",
      "metadata": {
        "id": "Lh2fK2cxp115",
        "colab_type": "code",
        "colab": {}
      },
      "source": [
        ""
      ],
      "execution_count": 0,
      "outputs": []
    },
    {
      "cell_type": "markdown",
      "metadata": {
        "id": "EzjcMXQbaoKX",
        "colab_type": "text"
      },
      "source": [
        "The sign of $\\alpha_1$ is negative, since the demand function is downward sloping. As the price increases, the quantity demanded for airtravel decreases\n",
        "\n",
        "The estimated price elasticity is -0.391 (t statistic= -5.817) (coefficient of log(fare))\n",
        "\n",
        "We assume that the passenger demand depends only on the airfare and so once we control for price, the passengers are indifferent about the fraction of travel that is accounted for by the largest carrier\n",
        "\n",
        "#####$log(fare)$ = 6.19 - 0.936 $log(dist)$ + 0.108 $[log(dist)]^2$ + 0.395 $concen$\n",
        "\n",
        "$n$= 1149, $R^{2}$= 0.408\n",
        "The coefficient on concen shows a pretty strong link between the concentration and fare. If the concen increases by 0.10, the fare increases by almost 3.95%, t-statistic being 6.3\n",
        "\n",
        "\n",
        "By using concen as an Instrumental variable for log(fare) the estimated price elasticity is -1.17 which will show a much greater price elasticity than the OLS estimmate. The Instrumental variable estimate will suggest that a one percent increase in fare will lead to a slight decrease of more than 1% drop in passenger demand. The standard error of IV estimate is larger but statistically significant. It has a value of 0.389 compared with the OLS standard error of 0.067.\n",
        "\n",
        "The coefficient of ldist is about -2.176 and that of ldistsq is 0.187. There will be a transition point which will transfer the influence from the distance on the seats number from negative to positive. That is by mathematical analysis, 2.176/.187 is approximately 5.82, which is a little less than 340 miles. That is at a certain distance, it will have a negative effect on the number of passsengers, and after that distance will have a positive effect. In short, a U relation.\n",
        "\n",
        "\n"
      ]
    }
  ]
}