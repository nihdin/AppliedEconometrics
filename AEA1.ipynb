{
  "nbformat": 4,
  "nbformat_minor": 0,
  "metadata": {
    "colab": {
      "name": "AEA1.ipynb",
      "provenance": [],
      "authorship_tag": "ABX9TyOm7X4czbVnqGspU6egKZOS",
      "include_colab_link": true
    },
    "kernelspec": {
      "name": "ir",
      "display_name": "R"
    }
  },
  "cells": [
    {
      "cell_type": "markdown",
      "metadata": {
        "id": "view-in-github",
        "colab_type": "text"
      },
      "source": [
        "<a href=\"https://colab.research.google.com/github/nihdin/AppliedEconometrics/blob/master/AEA1.ipynb\" target=\"_parent\"><img src=\"https://colab.research.google.com/assets/colab-badge.svg\" alt=\"Open In Colab\"/></a>"
      ]
    },
    {
      "cell_type": "code",
      "metadata": {
        "id": "jduaUTxdXJyZ",
        "colab_type": "code",
        "outputId": "1e0cfc09-2b49-4314-8038-fa1350caa47b",
        "colab": {
          "base_uri": "https://localhost:8080/",
          "height": 72
        }
      },
      "source": [
        "install.packages(\"wooldridge\")\n",
        "library(wooldridge)"
      ],
      "execution_count": 1,
      "outputs": [
        {
          "output_type": "stream",
          "text": [
            "Installing package into ‘/usr/local/lib/R/site-library’\n",
            "(as ‘lib’ is unspecified)\n",
            "\n"
          ],
          "name": "stderr"
        }
      ]
    },
    {
      "cell_type": "code",
      "metadata": {
        "id": "FslDe6muXavB",
        "colab_type": "code",
        "outputId": "20f0145f-5e31-45c4-c47c-e52011bb96ac",
        "colab": {
          "base_uri": "https://localhost:8080/",
          "height": 207
        }
      },
      "source": [
        "head(wage2)\n",
        "attach(wage2)"
      ],
      "execution_count": 2,
      "outputs": [
        {
          "output_type": "display_data",
          "data": {
            "text/plain": [
              "  wage hours IQ  KWW educ exper tenure age married black south urban sibs\n",
              "1  769 40     93 35  12   11     2     31  1       0     0     1      1  \n",
              "2  808 50    119 41  18   11    16     37  1       0     0     1      1  \n",
              "3  825 40    108 46  14   11     9     33  1       0     0     1      1  \n",
              "4  650 40     96 32  12   13     7     32  1       0     0     1      4  \n",
              "5  562 40     74 27  11   14     5     34  1       0     0     1     10  \n",
              "6 1400 40    116 43  16   14     2     35  1       1     0     1      1  \n",
              "  brthord meduc feduc lwage   \n",
              "1  2       8     8    6.645091\n",
              "2 NA      14    14    6.694562\n",
              "3  2      14    14    6.715384\n",
              "4  3      12    12    6.476973\n",
              "5  6       6    11    6.331502\n",
              "6  2       8    NA    7.244227"
            ],
            "text/latex": "A data.frame: 6 × 17\n\\begin{tabular}{r|lllllllllllllllll}\n  & wage & hours & IQ & KWW & educ & exper & tenure & age & married & black & south & urban & sibs & brthord & meduc & feduc & lwage\\\\\n  & <int> & <int> & <int> & <int> & <int> & <int> & <int> & <int> & <int> & <int> & <int> & <int> & <int> & <int> & <int> & <int> & <dbl>\\\\\n\\hline\n\t1 &  769 & 40 &  93 & 35 & 12 & 11 &  2 & 31 & 1 & 0 & 0 & 1 &  1 &  2 &  8 &  8 & 6.645091\\\\\n\t2 &  808 & 50 & 119 & 41 & 18 & 11 & 16 & 37 & 1 & 0 & 0 & 1 &  1 & NA & 14 & 14 & 6.694562\\\\\n\t3 &  825 & 40 & 108 & 46 & 14 & 11 &  9 & 33 & 1 & 0 & 0 & 1 &  1 &  2 & 14 & 14 & 6.715384\\\\\n\t4 &  650 & 40 &  96 & 32 & 12 & 13 &  7 & 32 & 1 & 0 & 0 & 1 &  4 &  3 & 12 & 12 & 6.476973\\\\\n\t5 &  562 & 40 &  74 & 27 & 11 & 14 &  5 & 34 & 1 & 0 & 0 & 1 & 10 &  6 &  6 & 11 & 6.331502\\\\\n\t6 & 1400 & 40 & 116 & 43 & 16 & 14 &  2 & 35 & 1 & 1 & 0 & 1 &  1 &  2 &  8 & NA & 7.244227\\\\\n\\end{tabular}\n",
            "text/markdown": "\nA data.frame: 6 × 17\n\n| <!--/--> | wage &lt;int&gt; | hours &lt;int&gt; | IQ &lt;int&gt; | KWW &lt;int&gt; | educ &lt;int&gt; | exper &lt;int&gt; | tenure &lt;int&gt; | age &lt;int&gt; | married &lt;int&gt; | black &lt;int&gt; | south &lt;int&gt; | urban &lt;int&gt; | sibs &lt;int&gt; | brthord &lt;int&gt; | meduc &lt;int&gt; | feduc &lt;int&gt; | lwage &lt;dbl&gt; |\n|---|---|---|---|---|---|---|---|---|---|---|---|---|---|---|---|---|---|\n| 1 |  769 | 40 |  93 | 35 | 12 | 11 |  2 | 31 | 1 | 0 | 0 | 1 |  1 |  2 |  8 |  8 | 6.645091 |\n| 2 |  808 | 50 | 119 | 41 | 18 | 11 | 16 | 37 | 1 | 0 | 0 | 1 |  1 | NA | 14 | 14 | 6.694562 |\n| 3 |  825 | 40 | 108 | 46 | 14 | 11 |  9 | 33 | 1 | 0 | 0 | 1 |  1 |  2 | 14 | 14 | 6.715384 |\n| 4 |  650 | 40 |  96 | 32 | 12 | 13 |  7 | 32 | 1 | 0 | 0 | 1 |  4 |  3 | 12 | 12 | 6.476973 |\n| 5 |  562 | 40 |  74 | 27 | 11 | 14 |  5 | 34 | 1 | 0 | 0 | 1 | 10 |  6 |  6 | 11 | 6.331502 |\n| 6 | 1400 | 40 | 116 | 43 | 16 | 14 |  2 | 35 | 1 | 1 | 0 | 1 |  1 |  2 |  8 | NA | 7.244227 |\n\n",
            "text/html": [
              "<table>\n",
              "<caption>A data.frame: 6 × 17</caption>\n",
              "<thead>\n",
              "\t<tr><th></th><th scope=col>wage</th><th scope=col>hours</th><th scope=col>IQ</th><th scope=col>KWW</th><th scope=col>educ</th><th scope=col>exper</th><th scope=col>tenure</th><th scope=col>age</th><th scope=col>married</th><th scope=col>black</th><th scope=col>south</th><th scope=col>urban</th><th scope=col>sibs</th><th scope=col>brthord</th><th scope=col>meduc</th><th scope=col>feduc</th><th scope=col>lwage</th></tr>\n",
              "\t<tr><th></th><th scope=col>&lt;int&gt;</th><th scope=col>&lt;int&gt;</th><th scope=col>&lt;int&gt;</th><th scope=col>&lt;int&gt;</th><th scope=col>&lt;int&gt;</th><th scope=col>&lt;int&gt;</th><th scope=col>&lt;int&gt;</th><th scope=col>&lt;int&gt;</th><th scope=col>&lt;int&gt;</th><th scope=col>&lt;int&gt;</th><th scope=col>&lt;int&gt;</th><th scope=col>&lt;int&gt;</th><th scope=col>&lt;int&gt;</th><th scope=col>&lt;int&gt;</th><th scope=col>&lt;int&gt;</th><th scope=col>&lt;int&gt;</th><th scope=col>&lt;dbl&gt;</th></tr>\n",
              "</thead>\n",
              "<tbody>\n",
              "\t<tr><th scope=row>1</th><td> 769</td><td>40</td><td> 93</td><td>35</td><td>12</td><td>11</td><td> 2</td><td>31</td><td>1</td><td>0</td><td>0</td><td>1</td><td> 1</td><td> 2</td><td> 8</td><td> 8</td><td>6.645091</td></tr>\n",
              "\t<tr><th scope=row>2</th><td> 808</td><td>50</td><td>119</td><td>41</td><td>18</td><td>11</td><td>16</td><td>37</td><td>1</td><td>0</td><td>0</td><td>1</td><td> 1</td><td>NA</td><td>14</td><td>14</td><td>6.694562</td></tr>\n",
              "\t<tr><th scope=row>3</th><td> 825</td><td>40</td><td>108</td><td>46</td><td>14</td><td>11</td><td> 9</td><td>33</td><td>1</td><td>0</td><td>0</td><td>1</td><td> 1</td><td> 2</td><td>14</td><td>14</td><td>6.715384</td></tr>\n",
              "\t<tr><th scope=row>4</th><td> 650</td><td>40</td><td> 96</td><td>32</td><td>12</td><td>13</td><td> 7</td><td>32</td><td>1</td><td>0</td><td>0</td><td>1</td><td> 4</td><td> 3</td><td>12</td><td>12</td><td>6.476973</td></tr>\n",
              "\t<tr><th scope=row>5</th><td> 562</td><td>40</td><td> 74</td><td>27</td><td>11</td><td>14</td><td> 5</td><td>34</td><td>1</td><td>0</td><td>0</td><td>1</td><td>10</td><td> 6</td><td> 6</td><td>11</td><td>6.331502</td></tr>\n",
              "\t<tr><th scope=row>6</th><td>1400</td><td>40</td><td>116</td><td>43</td><td>16</td><td>14</td><td> 2</td><td>35</td><td>1</td><td>1</td><td>0</td><td>1</td><td> 1</td><td> 2</td><td> 8</td><td>NA</td><td>7.244227</td></tr>\n",
              "</tbody>\n",
              "</table>\n"
            ]
          },
          "metadata": {
            "tags": []
          }
        }
      ]
    },
    {
      "cell_type": "code",
      "metadata": {
        "id": "Qj5Wzc5RXldo",
        "colab_type": "code",
        "outputId": "14f93c7e-7d69-4e17-d3bb-c6d1bac63fc9",
        "colab": {
          "base_uri": "https://localhost:8080/",
          "height": 340
        }
      },
      "source": [
        "colnames(wage2)"
      ],
      "execution_count": 3,
      "outputs": [
        {
          "output_type": "display_data",
          "data": {
            "text/plain": [
              " [1] \"wage\"    \"hours\"   \"IQ\"      \"KWW\"     \"educ\"    \"exper\"   \"tenure\" \n",
              " [8] \"age\"     \"married\" \"black\"   \"south\"   \"urban\"   \"sibs\"    \"brthord\"\n",
              "[15] \"meduc\"   \"feduc\"   \"lwage\"  "
            ],
            "text/latex": "\\begin{enumerate*}\n\\item 'wage'\n\\item 'hours'\n\\item 'IQ'\n\\item 'KWW'\n\\item 'educ'\n\\item 'exper'\n\\item 'tenure'\n\\item 'age'\n\\item 'married'\n\\item 'black'\n\\item 'south'\n\\item 'urban'\n\\item 'sibs'\n\\item 'brthord'\n\\item 'meduc'\n\\item 'feduc'\n\\item 'lwage'\n\\end{enumerate*}\n",
            "text/markdown": "1. 'wage'\n2. 'hours'\n3. 'IQ'\n4. 'KWW'\n5. 'educ'\n6. 'exper'\n7. 'tenure'\n8. 'age'\n9. 'married'\n10. 'black'\n11. 'south'\n12. 'urban'\n13. 'sibs'\n14. 'brthord'\n15. 'meduc'\n16. 'feduc'\n17. 'lwage'\n\n\n",
            "text/html": [
              "<ol class=list-inline>\n",
              "\t<li>'wage'</li>\n",
              "\t<li>'hours'</li>\n",
              "\t<li>'IQ'</li>\n",
              "\t<li>'KWW'</li>\n",
              "\t<li>'educ'</li>\n",
              "\t<li>'exper'</li>\n",
              "\t<li>'tenure'</li>\n",
              "\t<li>'age'</li>\n",
              "\t<li>'married'</li>\n",
              "\t<li>'black'</li>\n",
              "\t<li>'south'</li>\n",
              "\t<li>'urban'</li>\n",
              "\t<li>'sibs'</li>\n",
              "\t<li>'brthord'</li>\n",
              "\t<li>'meduc'</li>\n",
              "\t<li>'feduc'</li>\n",
              "\t<li>'lwage'</li>\n",
              "</ol>\n"
            ]
          },
          "metadata": {
            "tags": []
          }
        }
      ]
    },
    {
      "cell_type": "code",
      "metadata": {
        "id": "PZk6ROocYJ3u",
        "colab_type": "code",
        "outputId": "3d29af05-ad18-4993-8796-0033bdaa7633",
        "colab": {
          "base_uri": "https://localhost:8080/",
          "height": 72
        }
      },
      "source": [
        "mean_wage<-mean(wage)\n",
        "cat(\"The mean wage of the sample is \",mean_wage, \"\\n\")\n",
        "mean_IQ<-mean(IQ)\n",
        "cat(\"The mean IQ of the sample is \", mean_IQ, \"\\n\")\n",
        "cat(\"The standard deviation of IQ for the sample is \", sd(IQ), \"\\n\")"
      ],
      "execution_count": 4,
      "outputs": [
        {
          "output_type": "stream",
          "text": [
            "The mean wage of the sample is  957.9455 \n",
            "The mean IQ of the sample is  101.2824 \n",
            "The standard deviation of IQ for the sample is  15.05264 \n"
          ],
          "name": "stdout"
        }
      ]
    },
    {
      "cell_type": "code",
      "metadata": {
        "id": "wfnBksmxXz8r",
        "colab_type": "code",
        "outputId": "69222be6-36ee-45ad-99d6-41156e9a5b82",
        "colab": {
          "base_uri": "https://localhost:8080/",
          "height": 476
        }
      },
      "source": [
        "m1<-lm(wage~IQ)\n",
        "m1\n",
        "summary(m1)"
      ],
      "execution_count": 5,
      "outputs": [
        {
          "output_type": "display_data",
          "data": {
            "text/plain": [
              "\n",
              "Call:\n",
              "lm(formula = wage ~ IQ)\n",
              "\n",
              "Coefficients:\n",
              "(Intercept)           IQ  \n",
              "    116.992        8.303  \n"
            ]
          },
          "metadata": {
            "tags": []
          }
        },
        {
          "output_type": "display_data",
          "data": {
            "text/plain": [
              "\n",
              "Call:\n",
              "lm(formula = wage ~ IQ)\n",
              "\n",
              "Residuals:\n",
              "   Min     1Q Median     3Q    Max \n",
              "-898.7 -256.5  -47.3  201.1 2072.6 \n",
              "\n",
              "Coefficients:\n",
              "            Estimate Std. Error t value Pr(>|t|)    \n",
              "(Intercept) 116.9916    85.6415   1.366    0.172    \n",
              "IQ            8.3031     0.8364   9.927   <2e-16 ***\n",
              "---\n",
              "Signif. codes:  0 ‘***’ 0.001 ‘**’ 0.01 ‘*’ 0.05 ‘.’ 0.1 ‘ ’ 1\n",
              "\n",
              "Residual standard error: 384.8 on 933 degrees of freedom\n",
              "Multiple R-squared:  0.09554,\tAdjusted R-squared:  0.09457 \n",
              "F-statistic: 98.55 on 1 and 933 DF,  p-value: < 2.2e-16\n"
            ]
          },
          "metadata": {
            "tags": []
          }
        }
      ]
    },
    {
      "cell_type": "code",
      "metadata": {
        "id": "ckIRW1Gnajxq",
        "colab_type": "code",
        "colab": {
          "base_uri": "https://localhost:8080/",
          "height": 35
        },
        "outputId": "db6f5bb4-e6e7-41f0-cf05-bffe85b6d307"
      },
      "source": [
        "cat(\"Sample size =\",nrow(wage2),\"\\n\")"
      ],
      "execution_count": 6,
      "outputs": [
        {
          "output_type": "stream",
          "text": [
            "Sample size = 935 \n"
          ],
          "name": "stdout"
        }
      ]
    },
    {
      "cell_type": "markdown",
      "metadata": {
        "id": "kTmKkFB_bGS4",
        "colab_type": "text"
      },
      "source": [
        "#The Linear regression model\n",
        "\n",
        "##### **_$wage$_**= 116.992 + 8.303 **_$IQ$_**\n",
        "\n",
        "#####$n$ =935\n",
        "#####$R^{2}$ = 0.0955\n",
        "\n",
        "The increase in wage for an increase in IQ of 15 points will increase the predicted salary by $124.545 (8.303*15). R-squared value is less than 10% from the model. Therefore we can mention that IQ score does not explain most of the variation in wage"
      ]
    },
    {
      "cell_type": "code",
      "metadata": {
        "id": "65t9DDiQfdlR",
        "colab_type": "code",
        "outputId": "b8ef392f-82c6-4a4c-fcbc-83c232946ab4",
        "colab": {
          "base_uri": "https://localhost:8080/",
          "height": 476
        }
      },
      "source": [
        "m2<-lm(log(wage)~IQ)\n",
        "m2\n",
        "summary(m2)"
      ],
      "execution_count": 7,
      "outputs": [
        {
          "output_type": "display_data",
          "data": {
            "text/plain": [
              "\n",
              "Call:\n",
              "lm(formula = log(wage) ~ IQ)\n",
              "\n",
              "Coefficients:\n",
              "(Intercept)           IQ  \n",
              "   5.886994     0.008807  \n"
            ]
          },
          "metadata": {
            "tags": []
          }
        },
        {
          "output_type": "display_data",
          "data": {
            "text/plain": [
              "\n",
              "Call:\n",
              "lm(formula = log(wage) ~ IQ)\n",
              "\n",
              "Residuals:\n",
              "     Min       1Q   Median       3Q      Max \n",
              "-2.09324 -0.25547  0.02261  0.27544  1.21486 \n",
              "\n",
              "Coefficients:\n",
              "             Estimate Std. Error t value Pr(>|t|)    \n",
              "(Intercept) 5.8869943  0.0890206   66.13   <2e-16 ***\n",
              "IQ          0.0088072  0.0008694   10.13   <2e-16 ***\n",
              "---\n",
              "Signif. codes:  0 ‘***’ 0.001 ‘**’ 0.01 ‘*’ 0.05 ‘.’ 0.1 ‘ ’ 1\n",
              "\n",
              "Residual standard error: 0.3999 on 933 degrees of freedom\n",
              "Multiple R-squared:  0.09909,\tAdjusted R-squared:  0.09813 \n",
              "F-statistic: 102.6 on 1 and 933 DF,  p-value: < 2.2e-16\n"
            ]
          },
          "metadata": {
            "tags": []
          }
        }
      ]
    },
    {
      "cell_type": "markdown",
      "metadata": {
        "id": "lxqA3o4EsxeT",
        "colab_type": "text"
      },
      "source": [
        "#The Logarithmic model\n",
        "\n",
        "##### **_$log(wage)$_**= 5.8869 + 0.0088 **_$IQ$_**\n",
        "\n",
        "#####$n$ =935\n",
        "#####$R^{2}$ = 0.0991\n",
        "\n",
        "For change in IQ of 15 points, change in log(wage) = 0.132 (0.0088*15). Therefore there is an increase of 13.2 % increase in wage for an increase in IQ of 15 points "
      ]
    },
    {
      "cell_type": "markdown",
      "metadata": {
        "id": "6WaxpWCOgCfo",
        "colab_type": "text"
      },
      "source": [
        "#The Log model\n",
        "\n",
        "##### **_$log(wage)$_**= 5.8869 + 0.0088 **_$IQ$_**\n",
        "\n",
        "#####$n$ =935\n",
        "#####$R^{2}$ = 0.0991\n",
        "\n",
        "For change in IQ of 15 points, change in log(wage) = 0.132 (0.0088*15). Therefore there is an increase of 13.2 % increase in wage for an increase in IQ of 15 points "
      ]
    },
    {
      "cell_type": "code",
      "metadata": {
        "id": "iok9_9nZ76dH",
        "colab_type": "code",
        "colab": {}
      },
      "source": [
        "attach(countymurders)"
      ],
      "execution_count": 0,
      "outputs": []
    },
    {
      "cell_type": "code",
      "metadata": {
        "id": "ICxyYVU8-Lvl",
        "colab_type": "code",
        "outputId": "c2bf882d-5fd4-4c03-e0c1-4b1ba7df1ab9",
        "colab": {
          "base_uri": "https://localhost:8080/",
          "height": 1000
        }
      },
      "source": [
        "summary(countymurders)\n",
        "cm<-countymurders[which(countymurders$year==1996),]\n",
        "summary(cm)\n",
        "cat(\"Current number of rows (Counties) = \",nrow(cm), \"\\n\")"
      ],
      "execution_count": 9,
      "outputs": [
        {
          "output_type": "display_data",
          "data": {
            "text/plain": [
              "    arrests            countyid        density             popul        \n",
              " Min.   :   0.000   Min.   : 1001   Min.   :    0.05   Min.   :     85  \n",
              " 1st Qu.:   0.000   1st Qu.:20105   1st Qu.:   17.68   1st Qu.:  13144  \n",
              " Median :   1.000   Median :36065   Median :   44.24   Median :  28792  \n",
              " Mean   :   6.782   Mean   :32922   Mean   :  252.24   Mean   :  89344  \n",
              " 3rd Qu.:   3.000   3rd Qu.:48049   3rd Qu.:  106.60   3rd Qu.:  66480  \n",
              " Max.   :2391.000   Max.   :56045   Max.   :54058.77   Max.   :9127751  \n",
              " NA's   :504                                                            \n",
              "    perc1019        perc2029        percblack         percmale    \n",
              " Min.   : 7.08   Min.   : 5.617   Min.   : 0.000   Min.   :35.15  \n",
              " 1st Qu.:14.32   1st Qu.:12.302   1st Qu.: 0.200   1st Qu.:40.90  \n",
              " Median :15.42   Median :14.270   Median : 1.450   Median :41.81  \n",
              " Mean   :15.58   Mean   :14.585   Mean   : 7.823   Mean   :43.35  \n",
              " 3rd Qu.:16.73   3rd Qu.:16.200   3rd Qu.: 8.740   3rd Qu.:45.87  \n",
              " Max.   :30.48   Max.   :40.520   Max.   :86.279   Max.   :78.04  \n",
              "                                                                  \n",
              "  rpcincmaint        rpcpersinc      rpcunemins          year     \n",
              " Min.   :   5.49   Min.   : 3478   Min.   :  0.00   Min.   :1980  \n",
              " 1st Qu.:  96.25   1st Qu.: 9598   1st Qu.: 35.20   1st Qu.:1984  \n",
              " Median : 145.15   Median :10908   Median : 57.10   Median :1988  \n",
              " Mean   : 165.45   Mean   :11272   Mean   : 70.56   Mean   :1988  \n",
              " 3rd Qu.: 209.88   3rd Qu.:12426   3rd Qu.: 89.96   3rd Qu.:1992  \n",
              " Max.   :1306.50   Max.   :41094   Max.   :642.73   Max.   :1996  \n",
              " NA's   :3         NA's   :3       NA's   :3                      \n",
              "    murders            murdrate         arrestrate         statefips    \n",
              " Min.   :   0.000   Min.   : 0.0000   Min.   :  0.0000   Min.   : 1.00  \n",
              " 1st Qu.:   0.000   1st Qu.: 0.0000   1st Qu.:  0.0000   1st Qu.:20.00  \n",
              " Median :   1.000   Median : 0.2410   Median :  0.1637   Median :36.00  \n",
              " Mean   :   7.287   Mean   : 0.5082   Mean   :  0.5115   Mean   :32.82  \n",
              " 3rd Qu.:   3.000   3rd Qu.: 0.7353   3rd Qu.:  0.7017   3rd Qu.:48.00  \n",
              " Max.   :1944.000   Max.   :39.8406   Max.   :148.6584   Max.   :56.00  \n",
              "                                      NA's   :504                       \n",
              "   countyfips        execs              lpopul          execrate       \n",
              " Min.   :  1.0   Min.   :0.000000   Min.   : 4.443   Min.   :0.000000  \n",
              " 1st Qu.: 33.0   1st Qu.:0.000000   1st Qu.: 9.484   1st Qu.:0.000000  \n",
              " Median : 75.0   Median :0.000000   Median :10.268   Median :0.000000  \n",
              " Mean   :100.4   Mean   :0.006854   Mean   :10.347   Mean   :0.001043  \n",
              " 3rd Qu.:127.0   3rd Qu.:0.000000   3rd Qu.:11.105   3rd Qu.:0.000000  \n",
              " Max.   :840.0   Max.   :7.000000   Max.   :16.027   Max.   :2.388916  \n",
              "                                                                       "
            ]
          },
          "metadata": {
            "tags": []
          }
        },
        {
          "output_type": "display_data",
          "data": {
            "text/plain": [
              "    arrests           countyid        density             popul        \n",
              " Min.   :   0.00   Min.   : 1001   Min.   :    0.08   Min.   :    141  \n",
              " 1st Qu.:   0.00   1st Qu.:20105   1st Qu.:   17.95   1st Qu.:  13584  \n",
              " Median :   1.00   Median :36065   Median :   46.54   Median :  30514  \n",
              " Mean   :   6.07   Mean   :32922   Mean   :  261.87   Mean   :  96249  \n",
              " 3rd Qu.:   3.00   3rd Qu.:48049   3rd Qu.:  117.55   3rd Qu.:  73037  \n",
              " Max.   :1105.00   Max.   :56045   Max.   :54058.77   Max.   :9127751  \n",
              "    perc1019         perc2029        percblack          percmale    \n",
              " Min.   : 7.599   Min.   : 5.617   Min.   : 0.0000   Min.   :44.51  \n",
              " 1st Qu.:13.965   1st Qu.:10.131   1st Qu.: 0.2503   1st Qu.:48.39  \n",
              " Median :15.031   Median :11.762   Median : 1.6710   Median :49.14  \n",
              " Mean   :15.125   Mean   :12.014   Mean   : 8.2211   Mean   :49.34  \n",
              " 3rd Qu.:16.120   3rd Qu.:13.190   3rd Qu.: 9.1981   3rd Qu.:49.93  \n",
              " Max.   :30.485   Max.   :34.755   Max.   :86.2793   Max.   :61.64  \n",
              "  rpcincmaint        rpcpersinc      rpcunemins          year     \n",
              " Min.   :  19.14   Min.   : 4615   Min.   :  0.00   Min.   :1996  \n",
              " 1st Qu.: 127.60   1st Qu.:10693   1st Qu.: 27.43   1st Qu.:1996  \n",
              " Median : 184.38   Median :12081   Median : 44.66   Median :1996  \n",
              " Mean   : 207.64   Mean   :12539   Mean   : 52.58   Mean   :1996  \n",
              " 3rd Qu.: 253.92   3rd Qu.:13695   3rd Qu.: 68.27   3rd Qu.:1996  \n",
              " Max.   :1281.10   Max.   :41094   Max.   :315.17   Max.   :1996  \n",
              "    murders           murdrate         arrestrate        statefips    \n",
              " Min.   :   0.00   Min.   : 0.0000   Min.   : 0.0000   Min.   : 1.00  \n",
              " 1st Qu.:   0.00   1st Qu.: 0.0000   1st Qu.: 0.0000   1st Qu.:20.00  \n",
              " Median :   1.00   Median : 0.1158   Median : 0.1032   Median :36.00  \n",
              " Mean   :   6.39   Mean   : 0.4217   Mean   : 0.4634   Mean   :32.82  \n",
              " 3rd Qu.:   3.00   3rd Qu.: 0.6256   3rd Qu.: 0.6082   3rd Qu.:48.00  \n",
              " Max.   :1403.00   Max.   :12.3916   Max.   :13.9860   Max.   :56.00  \n",
              "   countyfips        execs             lpopul          execrate       \n",
              " Min.   :  1.0   Min.   :0.00000   Min.   : 4.949   Min.   :0.000000  \n",
              " 1st Qu.: 33.0   1st Qu.:0.00000   1st Qu.: 9.517   1st Qu.:0.000000  \n",
              " Median : 75.0   Median :0.00000   Median :10.326   Median :0.000000  \n",
              " Mean   :100.4   Mean   :0.01593   Mean   :10.400   Mean   :0.002556  \n",
              " 3rd Qu.:127.0   3rd Qu.:0.00000   3rd Qu.:11.199   3rd Qu.:0.000000  \n",
              " Max.   :840.0   Max.   :3.00000   Max.   :16.027   Max.   :1.177024  "
            ]
          },
          "metadata": {
            "tags": []
          }
        },
        {
          "output_type": "stream",
          "text": [
            "Current number of rows (Counties) =  2197 \n"
          ],
          "name": "stdout"
        }
      ]
    },
    {
      "cell_type": "code",
      "metadata": {
        "id": "zlNpJJk2-H-J",
        "colab_type": "code",
        "outputId": "044500cb-f665-4f23-dd27-9e37b7501f2d",
        "colab": {
          "base_uri": "https://localhost:8080/",
          "height": 164
        }
      },
      "source": [
        "attach(cm)"
      ],
      "execution_count": 10,
      "outputs": [
        {
          "output_type": "stream",
          "text": [
            "The following objects are masked from countymurders:\n",
            "\n",
            "    arrestrate, arrests, countyfips, countyid, density, execrate,\n",
            "    execs, lpopul, murders, murdrate, perc1019, perc2029, percblack,\n",
            "    percmale, popul, rpcincmaint, rpcpersinc, rpcunemins, statefips,\n",
            "    year\n",
            "\n",
            "\n"
          ],
          "name": "stderr"
        }
      ]
    },
    {
      "cell_type": "code",
      "metadata": {
        "id": "UDhkMouyCMGB",
        "colab_type": "code",
        "outputId": "04a558e0-e088-4ff9-d06e-e9824a3584af",
        "colab": {
          "base_uri": "https://localhost:8080/",
          "height": 109
        }
      },
      "source": [
        "c<-sum(murders==0)\n",
        "cat(\"The number of counties that had zero murders in 1996 is \",c, \"\\n\")\n",
        "d<-sum(execs>0)\n",
        "cat(\"The number of counties that had at least one execution is \", d, \"\\n\")\n",
        "cat(\"The largest number of executions is \", max(execs), \"\\n\")"
      ],
      "execution_count": 19,
      "outputs": [
        {
          "output_type": "stream",
          "text": [
            "The number of counties that had zero murders in 1996 is  1051 \n",
            "The number of counties that had at least one execution is  31 \n",
            "The largest number of executions is  3 \n"
          ],
          "name": "stdout"
        },
        {
          "output_type": "display_data",
          "data": {
            "text/plain": [
              "   Min. 1st Qu.  Median    Mean 3rd Qu.    Max. \n",
              "0.00000 0.00000 0.00000 0.01593 0.00000 3.00000 "
            ]
          },
          "metadata": {
            "tags": []
          }
        }
      ]
    },
    {
      "cell_type": "code",
      "metadata": {
        "id": "m82WhzFbChOj",
        "colab_type": "code",
        "outputId": "f50ec9b9-12dc-44b5-93ce-7a5ed47aba51",
        "colab": {
          "base_uri": "https://localhost:8080/",
          "height": 494
        }
      },
      "source": [
        "m4=lm(murders~execs)\n",
        "m4\n",
        "summary(m4)\n",
        "nrow(cm)"
      ],
      "execution_count": 22,
      "outputs": [
        {
          "output_type": "display_data",
          "data": {
            "text/plain": [
              "\n",
              "Call:\n",
              "lm(formula = murders ~ execs)\n",
              "\n",
              "Coefficients:\n",
              "(Intercept)        execs  \n",
              "      5.457       58.555  \n"
            ]
          },
          "metadata": {
            "tags": []
          }
        },
        {
          "output_type": "display_data",
          "data": {
            "text/plain": [
              "\n",
              "Call:\n",
              "lm(formula = murders ~ execs)\n",
              "\n",
              "Residuals:\n",
              "    Min      1Q  Median      3Q     Max \n",
              "-149.12   -5.46   -4.46   -2.46 1338.99 \n",
              "\n",
              "Coefficients:\n",
              "            Estimate Std. Error t value Pr(>|t|)    \n",
              "(Intercept)   5.4572     0.8348   6.537 7.79e-11 ***\n",
              "execs        58.5555     5.8333  10.038  < 2e-16 ***\n",
              "---\n",
              "Signif. codes:  0 ‘***’ 0.001 ‘**’ 0.01 ‘*’ 0.05 ‘.’ 0.1 ‘ ’ 1\n",
              "\n",
              "Residual standard error: 38.89 on 2195 degrees of freedom\n",
              "Multiple R-squared:  0.04389,\tAdjusted R-squared:  0.04346 \n",
              "F-statistic: 100.8 on 1 and 2195 DF,  p-value: < 2.2e-16\n"
            ]
          },
          "metadata": {
            "tags": []
          }
        },
        {
          "output_type": "display_data",
          "data": {
            "text/plain": [
              "[1] 2197"
            ],
            "text/latex": "2197",
            "text/markdown": "2197",
            "text/html": [
              "2197"
            ]
          },
          "metadata": {
            "tags": []
          }
        }
      ]
    },
    {
      "cell_type": "markdown",
      "metadata": {
        "id": "X3cvSOnVGPDq",
        "colab_type": "text"
      },
      "source": [
        "#Linear regression model\n",
        "##### **_$murders$_**= 5.457 + 58.555 **_$execs$_**\n",
        "\n",
        "#####$n$ =2197\n",
        "#####$R^{2}$ = 0.0439\n",
        "\n",
        "\n",
        "The coefficient of $exec$ is statistically significant.\n",
        "\n",
        "The estimated equation shows that if there is one more execution, it is associated with 58.555 more murders. Therefore it doesn't suggest a deterrent effect of capital punishmnet, but rather the opposite\n",
        "\n",
        "The smallest number of murders that can be predicted by the equation is $5.457$ (the intercept) (but according to the dataset there are counties with zero murders)\n",
        "\n",
        "The residual for a county with zero executions and zero murders is $-5.457$\n",
        "\n",
        "A simple regression analysis is not well suited for determining  whether capital punishment has a deterrent effect on murders due to the following reasons.\n",
        "1. The $R{^2}$ value is less than 5%. The executions do not really explain much of the variation in murders (Murders of a county can be a function of many other variables such as average income, unemployment, and many more).\n",
        "2. Endogeneity issue : There can be an endogeneity issue. There might be causality in the other way (more murders cause executions) or there are other variables that are corelated with both these variables. "
      ]
    }
  ]
}