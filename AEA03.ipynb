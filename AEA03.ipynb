{
  "nbformat": 4,
  "nbformat_minor": 0,
  "metadata": {
    "colab": {
      "name": "AEA03.ipynb",
      "provenance": []
    },
    "kernelspec": {
      "name": "ir",
      "display_name": "R"
    }
  },
  "cells": [
    {
      "cell_type": "code",
      "metadata": {
        "id": "TpkPlRTY4Gms",
        "colab_type": "code",
        "outputId": "ac212f0f-07fe-4e63-bb8e-9a646aa13669",
        "colab": {
          "base_uri": "https://localhost:8080/",
          "height": 72
        }
      },
      "source": [
        "install.packages(\"wooldridge\")\n",
        "library(wooldridge)"
      ],
      "execution_count": 0,
      "outputs": [
        {
          "output_type": "stream",
          "text": [
            "Installing package into ‘/usr/local/lib/R/site-library’\n",
            "(as ‘lib’ is unspecified)\n",
            "\n"
          ],
          "name": "stderr"
        }
      ]
    },
    {
      "cell_type": "markdown",
      "metadata": {
        "id": "dTyY3poK5cvH",
        "colab_type": "text"
      },
      "source": [
        "##### If there is discrimination against minorities, and the appropriate factors have been controlled for, $\\beta$<sub>1</sub> will have a positive value, since a positive value will signal discrimination against minorities. Here the value of $\\beta$<sub>1</sub> is greater than zero. Therefore it denotes that a white person will have a greater chance of having a loan approved, having other factors controlled. "
      ]
    },
    {
      "cell_type": "code",
      "metadata": {
        "id": "fL1yi5Ki6svu",
        "colab_type": "code",
        "outputId": "ad087317-e1e3-4b0c-e196-8ad4e5e49c49",
        "colab": {
          "base_uri": "https://localhost:8080/",
          "height": 348
        }
      },
      "source": [
        "attach(loanapp)\n",
        "m1<-lm(approve~white)\n",
        "summary(m1)"
      ],
      "execution_count": 0,
      "outputs": [
        {
          "output_type": "display_data",
          "data": {
            "text/plain": [
              "\n",
              "Call:\n",
              "lm(formula = approve ~ white)\n",
              "\n",
              "Residuals:\n",
              "     Min       1Q   Median       3Q      Max \n",
              "-0.90839  0.09161  0.09161  0.09161  0.29221 \n",
              "\n",
              "Coefficients:\n",
              "            Estimate Std. Error t value Pr(>|t|)    \n",
              "(Intercept)  0.70779    0.01824   38.81   <2e-16 ***\n",
              "white        0.20060    0.01984   10.11   <2e-16 ***\n",
              "---\n",
              "Signif. codes:  0 ‘***’ 0.001 ‘**’ 0.01 ‘*’ 0.05 ‘.’ 0.1 ‘ ’ 1\n",
              "\n",
              "Residual standard error: 0.3201 on 1987 degrees of freedom\n",
              "Multiple R-squared:  0.04893,\tAdjusted R-squared:  0.04845 \n",
              "F-statistic: 102.2 on 1 and 1987 DF,  p-value: < 2.2e-16\n"
            ]
          },
          "metadata": {
            "tags": []
          }
        }
      ]
    },
    {
      "cell_type": "markdown",
      "metadata": {
        "id": "dKZS6zel7Dej",
        "colab_type": "text"
      },
      "source": [
        "#The Linear regression model\n",
        "\n",
        "##### **_$approve$_**= 0.7078 + 0.2006 **_$white$_**\n",
        "#####$n$ =1989\n",
        "#####$R^{2}$ = 0.049\n",
        "\n",
        "The coefficient of white denotes that in a sample of 1989 applicants, an application submitted by a white applicant was 20.06% more likely to be approved than non-white applicant. The t-statistic is 10.11 and therefore denotes a large difference. "
      ]
    },
    {
      "cell_type": "code",
      "metadata": {
        "id": "6YXtiMFo7CZe",
        "colab_type": "code",
        "outputId": "a89978fa-e4a7-488b-feb8-dec36082c1a0",
        "colab": {
          "base_uri": "https://localhost:8080/",
          "height": 660
        }
      },
      "source": [
        "m2<- lm(approve ~ white+hrat+obrat+loanprc+unem+male+married+dep+sch+cosign+chist+pubrec+mortlat1+mortlat2+vr)\n",
        "summary(m2)"
      ],
      "execution_count": 0,
      "outputs": [
        {
          "output_type": "display_data",
          "data": {
            "text/plain": [
              "\n",
              "Call:\n",
              "lm(formula = approve ~ white + hrat + obrat + loanprc + unem + \n",
              "    male + married + dep + sch + cosign + chist + pubrec + mortlat1 + \n",
              "    mortlat2 + vr)\n",
              "\n",
              "Residuals:\n",
              "     Min       1Q   Median       3Q      Max \n",
              "-1.06482  0.00781  0.06387  0.13673  0.71105 \n",
              "\n",
              "Coefficients:\n",
              "             Estimate Std. Error t value Pr(>|t|)    \n",
              "(Intercept)  0.936731   0.052735  17.763  < 2e-16 ***\n",
              "white        0.128820   0.019732   6.529 8.44e-11 ***\n",
              "hrat         0.001833   0.001263   1.451   0.1469    \n",
              "obrat       -0.005432   0.001102  -4.930 8.92e-07 ***\n",
              "loanprc     -0.147300   0.037516  -3.926 8.92e-05 ***\n",
              "unem        -0.007299   0.003198  -2.282   0.0226 *  \n",
              "male        -0.004144   0.018864  -0.220   0.8261    \n",
              "married      0.045824   0.016308   2.810   0.0050 ** \n",
              "dep         -0.006827   0.006701  -1.019   0.3084    \n",
              "sch          0.001753   0.016650   0.105   0.9162    \n",
              "cosign       0.009772   0.041139   0.238   0.8123    \n",
              "chist        0.133027   0.019263   6.906 6.72e-12 ***\n",
              "pubrec      -0.241927   0.028227  -8.571  < 2e-16 ***\n",
              "mortlat1    -0.057251   0.050012  -1.145   0.2525    \n",
              "mortlat2    -0.113723   0.066984  -1.698   0.0897 .  \n",
              "vr          -0.031441   0.014031  -2.241   0.0252 *  \n",
              "---\n",
              "Signif. codes:  0 ‘***’ 0.001 ‘**’ 0.01 ‘*’ 0.05 ‘.’ 0.1 ‘ ’ 1\n",
              "\n",
              "Residual standard error: 0.3021 on 1955 degrees of freedom\n",
              "  (18 observations deleted due to missingness)\n",
              "Multiple R-squared:  0.1656,\tAdjusted R-squared:  0.1592 \n",
              "F-statistic: 25.86 on 15 and 1955 DF,  p-value: < 2.2e-16\n"
            ]
          },
          "metadata": {
            "tags": []
          }
        }
      ]
    },
    {
      "cell_type": "markdown",
      "metadata": {
        "id": "xXGSxtpcVBdE",
        "colab_type": "text"
      },
      "source": [
        "#####We obtain the coefficient of $white$, $\\beta$</sub>1</sub> to be equal to 0.1288 and the $standard$ $error$ to be 0.0197. The coefficinet has fallen by some margin because we now control for factors that affect loan approval rates, and some of these factors clearly differ by race. The race effect is still strong and significant. This may be due to reasons that white people have higher incomes and stronger credit histories. This suggest that there is still evidence of discrimination against nonwhites."
      ]
    },
    {
      "cell_type": "code",
      "metadata": {
        "id": "sInuCimIVBC8",
        "colab_type": "code",
        "outputId": "c0dccccf-8b7a-44dd-9a21-35c81c99c78c",
        "colab": {
          "base_uri": "https://localhost:8080/",
          "height": 556
        }
      },
      "source": [
        "attach(nbasal)\n",
        "head(nbasal)"
      ],
      "execution_count": 0,
      "outputs": [
        {
          "output_type": "stream",
          "text": [
            "The following objects are masked from nbasal (pos = 3):\n",
            "\n",
            "    age, agesq, allstar, assists, avgmin, black, center, children,\n",
            "    coll, draft, exper, expersq, forward, games, guard, lwage, marr,\n",
            "    marrblck, minutes, points, rebounds, wage\n",
            "\n",
            "\n",
            "The following objects are masked from nbasal (pos = 4):\n",
            "\n",
            "    age, agesq, allstar, assists, avgmin, black, center, children,\n",
            "    coll, draft, exper, expersq, forward, games, guard, lwage, marr,\n",
            "    marrblck, minutes, points, rebounds, wage\n",
            "\n",
            "\n",
            "The following object is masked from loanapp:\n",
            "\n",
            "    black\n",
            "\n",
            "\n"
          ],
          "name": "stderr"
        },
        {
          "output_type": "display_data",
          "data": {
            "text/plain": [
              "  marr wage   exper age coll games minutes guard forward center ⋯ assists draft\n",
              "1 1    1002.5 4     27  4    77    2867    1     0       0      ⋯ 4.5     19   \n",
              "2 1    2030.0 5     28  4    78    2789    1     0       0      ⋯ 8.8     28   \n",
              "3 0     650.0 1     25  4    74    1149    0     0       1      ⋯ 0.2     19   \n",
              "4 0    2030.0 5     28  4    47    1178    0     1       0      ⋯ 1.5      1   \n",
              "5 0     755.0 3     24  4    82    2096    1     0       0      ⋯ 2.6     24   \n",
              "6 0    2014.5 9     31  4    82    1971    0     1       0      ⋯ 1.5      4   \n",
              "  allstar avgmin   lwage    black children expersq agesq marrblck\n",
              "1 0       37.23376 6.910252 1     0        16      729   1       \n",
              "2 0       35.75641 7.615791 1     1        25      784   1       \n",
              "3 0       15.52703 6.476973 1     0         1      625   0       \n",
              "4 0       25.06383 7.615791 1     0        25      784   0       \n",
              "5 0       25.56098 6.626718 1     0         9      576   0       \n",
              "6 0       24.03658 7.608126 1     0        81      961   0       "
            ],
            "text/latex": "A data.frame: 6 × 22\n\\begin{tabular}{r|lllllllllllllllllllll}\n  & marr & wage & exper & age & coll & games & minutes & guard & forward & center & ⋯ & assists & draft & allstar & avgmin & lwage & black & children & expersq & agesq & marrblck\\\\\n  & <int> & <dbl> & <int> & <int> & <int> & <int> & <int> & <int> & <int> & <int> & ⋯ & <dbl> & <int> & <int> & <dbl> & <dbl> & <int> & <int> & <int> & <int> & <int>\\\\\n\\hline\n\t1 & 1 & 1002.5 & 4 & 27 & 4 & 77 & 2867 & 1 & 0 & 0 & ⋯ & 4.5 & 19 & 0 & 37.23376 & 6.910252 & 1 & 0 & 16 & 729 & 1\\\\\n\t2 & 1 & 2030.0 & 5 & 28 & 4 & 78 & 2789 & 1 & 0 & 0 & ⋯ & 8.8 & 28 & 0 & 35.75641 & 7.615791 & 1 & 1 & 25 & 784 & 1\\\\\n\t3 & 0 &  650.0 & 1 & 25 & 4 & 74 & 1149 & 0 & 0 & 1 & ⋯ & 0.2 & 19 & 0 & 15.52703 & 6.476973 & 1 & 0 &  1 & 625 & 0\\\\\n\t4 & 0 & 2030.0 & 5 & 28 & 4 & 47 & 1178 & 0 & 1 & 0 & ⋯ & 1.5 &  1 & 0 & 25.06383 & 7.615791 & 1 & 0 & 25 & 784 & 0\\\\\n\t5 & 0 &  755.0 & 3 & 24 & 4 & 82 & 2096 & 1 & 0 & 0 & ⋯ & 2.6 & 24 & 0 & 25.56098 & 6.626718 & 1 & 0 &  9 & 576 & 0\\\\\n\t6 & 0 & 2014.5 & 9 & 31 & 4 & 82 & 1971 & 0 & 1 & 0 & ⋯ & 1.5 &  4 & 0 & 24.03658 & 7.608126 & 1 & 0 & 81 & 961 & 0\\\\\n\\end{tabular}\n",
            "text/markdown": "\nA data.frame: 6 × 22\n\n| <!--/--> | marr &lt;int&gt; | wage &lt;dbl&gt; | exper &lt;int&gt; | age &lt;int&gt; | coll &lt;int&gt; | games &lt;int&gt; | minutes &lt;int&gt; | guard &lt;int&gt; | forward &lt;int&gt; | center &lt;int&gt; | ⋯ ⋯ | assists &lt;dbl&gt; | draft &lt;int&gt; | allstar &lt;int&gt; | avgmin &lt;dbl&gt; | lwage &lt;dbl&gt; | black &lt;int&gt; | children &lt;int&gt; | expersq &lt;int&gt; | agesq &lt;int&gt; | marrblck &lt;int&gt; |\n|---|---|---|---|---|---|---|---|---|---|---|---|---|---|---|---|---|---|---|---|---|---|\n| 1 | 1 | 1002.5 | 4 | 27 | 4 | 77 | 2867 | 1 | 0 | 0 | ⋯ | 4.5 | 19 | 0 | 37.23376 | 6.910252 | 1 | 0 | 16 | 729 | 1 |\n| 2 | 1 | 2030.0 | 5 | 28 | 4 | 78 | 2789 | 1 | 0 | 0 | ⋯ | 8.8 | 28 | 0 | 35.75641 | 7.615791 | 1 | 1 | 25 | 784 | 1 |\n| 3 | 0 |  650.0 | 1 | 25 | 4 | 74 | 1149 | 0 | 0 | 1 | ⋯ | 0.2 | 19 | 0 | 15.52703 | 6.476973 | 1 | 0 |  1 | 625 | 0 |\n| 4 | 0 | 2030.0 | 5 | 28 | 4 | 47 | 1178 | 0 | 1 | 0 | ⋯ | 1.5 |  1 | 0 | 25.06383 | 7.615791 | 1 | 0 | 25 | 784 | 0 |\n| 5 | 0 |  755.0 | 3 | 24 | 4 | 82 | 2096 | 1 | 0 | 0 | ⋯ | 2.6 | 24 | 0 | 25.56098 | 6.626718 | 1 | 0 |  9 | 576 | 0 |\n| 6 | 0 | 2014.5 | 9 | 31 | 4 | 82 | 1971 | 0 | 1 | 0 | ⋯ | 1.5 |  4 | 0 | 24.03658 | 7.608126 | 1 | 0 | 81 | 961 | 0 |\n\n",
            "text/html": [
              "<table>\n",
              "<caption>A data.frame: 6 × 22</caption>\n",
              "<thead>\n",
              "\t<tr><th></th><th scope=col>marr</th><th scope=col>wage</th><th scope=col>exper</th><th scope=col>age</th><th scope=col>coll</th><th scope=col>games</th><th scope=col>minutes</th><th scope=col>guard</th><th scope=col>forward</th><th scope=col>center</th><th scope=col>⋯</th><th scope=col>assists</th><th scope=col>draft</th><th scope=col>allstar</th><th scope=col>avgmin</th><th scope=col>lwage</th><th scope=col>black</th><th scope=col>children</th><th scope=col>expersq</th><th scope=col>agesq</th><th scope=col>marrblck</th></tr>\n",
              "\t<tr><th></th><th scope=col>&lt;int&gt;</th><th scope=col>&lt;dbl&gt;</th><th scope=col>&lt;int&gt;</th><th scope=col>&lt;int&gt;</th><th scope=col>&lt;int&gt;</th><th scope=col>&lt;int&gt;</th><th scope=col>&lt;int&gt;</th><th scope=col>&lt;int&gt;</th><th scope=col>&lt;int&gt;</th><th scope=col>&lt;int&gt;</th><th scope=col>⋯</th><th scope=col>&lt;dbl&gt;</th><th scope=col>&lt;int&gt;</th><th scope=col>&lt;int&gt;</th><th scope=col>&lt;dbl&gt;</th><th scope=col>&lt;dbl&gt;</th><th scope=col>&lt;int&gt;</th><th scope=col>&lt;int&gt;</th><th scope=col>&lt;int&gt;</th><th scope=col>&lt;int&gt;</th><th scope=col>&lt;int&gt;</th></tr>\n",
              "</thead>\n",
              "<tbody>\n",
              "\t<tr><th scope=row>1</th><td>1</td><td>1002.5</td><td>4</td><td>27</td><td>4</td><td>77</td><td>2867</td><td>1</td><td>0</td><td>0</td><td>⋯</td><td>4.5</td><td>19</td><td>0</td><td>37.23376</td><td>6.910252</td><td>1</td><td>0</td><td>16</td><td>729</td><td>1</td></tr>\n",
              "\t<tr><th scope=row>2</th><td>1</td><td>2030.0</td><td>5</td><td>28</td><td>4</td><td>78</td><td>2789</td><td>1</td><td>0</td><td>0</td><td>⋯</td><td>8.8</td><td>28</td><td>0</td><td>35.75641</td><td>7.615791</td><td>1</td><td>1</td><td>25</td><td>784</td><td>1</td></tr>\n",
              "\t<tr><th scope=row>3</th><td>0</td><td> 650.0</td><td>1</td><td>25</td><td>4</td><td>74</td><td>1149</td><td>0</td><td>0</td><td>1</td><td>⋯</td><td>0.2</td><td>19</td><td>0</td><td>15.52703</td><td>6.476973</td><td>1</td><td>0</td><td> 1</td><td>625</td><td>0</td></tr>\n",
              "\t<tr><th scope=row>4</th><td>0</td><td>2030.0</td><td>5</td><td>28</td><td>4</td><td>47</td><td>1178</td><td>0</td><td>1</td><td>0</td><td>⋯</td><td>1.5</td><td> 1</td><td>0</td><td>25.06383</td><td>7.615791</td><td>1</td><td>0</td><td>25</td><td>784</td><td>0</td></tr>\n",
              "\t<tr><th scope=row>5</th><td>0</td><td> 755.0</td><td>3</td><td>24</td><td>4</td><td>82</td><td>2096</td><td>1</td><td>0</td><td>0</td><td>⋯</td><td>2.6</td><td>24</td><td>0</td><td>25.56098</td><td>6.626718</td><td>1</td><td>0</td><td> 9</td><td>576</td><td>0</td></tr>\n",
              "\t<tr><th scope=row>6</th><td>0</td><td>2014.5</td><td>9</td><td>31</td><td>4</td><td>82</td><td>1971</td><td>0</td><td>1</td><td>0</td><td>⋯</td><td>1.5</td><td> 4</td><td>0</td><td>24.03658</td><td>7.608126</td><td>1</td><td>0</td><td>81</td><td>961</td><td>0</td></tr>\n",
              "</tbody>\n",
              "</table>\n"
            ]
          },
          "metadata": {
            "tags": []
          }
        }
      ]
    },
    {
      "cell_type": "code",
      "metadata": {
        "id": "DpUZGv_fcVak",
        "colab_type": "code",
        "outputId": "f5a47a0e-dc21-4881-85fc-8d01c900910f",
        "colab": {
          "base_uri": "https://localhost:8080/",
          "height": 403
        }
      },
      "source": [
        "m3<-lm(points~exper+expersq+guard+forward)\n",
        "summary(m3)"
      ],
      "execution_count": 0,
      "outputs": [
        {
          "output_type": "display_data",
          "data": {
            "text/plain": [
              "\n",
              "Call:\n",
              "lm(formula = points ~ exper + expersq + guard + forward)\n",
              "\n",
              "Residuals:\n",
              "    Min      1Q  Median      3Q     Max \n",
              "-11.220  -4.268  -1.003   3.444  22.265 \n",
              "\n",
              "Coefficients:\n",
              "            Estimate Std. Error t value Pr(>|t|)    \n",
              "(Intercept)  4.76076    1.17862   4.039 7.03e-05 ***\n",
              "exper        1.28067    0.32853   3.898 0.000123 ***\n",
              "expersq     -0.07184    0.02407  -2.985 0.003106 ** \n",
              "guard        2.31469    1.00036   2.314 0.021444 *  \n",
              "forward      1.54457    1.00226   1.541 0.124492    \n",
              "---\n",
              "Signif. codes:  0 ‘***’ 0.001 ‘**’ 0.01 ‘*’ 0.05 ‘.’ 0.1 ‘ ’ 1\n",
              "\n",
              "Residual standard error: 5.668 on 264 degrees of freedom\n",
              "Multiple R-squared:  0.09098,\tAdjusted R-squared:  0.07721 \n",
              "F-statistic: 6.606 on 4 and 264 DF,  p-value: 4.426e-05\n"
            ]
          },
          "metadata": {
            "tags": []
          }
        }
      ]
    },
    {
      "cell_type": "markdown",
      "metadata": {
        "id": "B938z2nHePJd",
        "colab_type": "text"
      },
      "source": [
        "#The Linear regression model\n",
        "\n",
        "##### **_$points$_**= 4.7608 + 1.2807 **_$exper$_** - 0.0718 **_$expersq$_** + 2.3147 **_$guard$_** + 1.5446 **_$forward$_**\n",
        "\n",
        "#####$n$ =269\n",
        "#####$R^{2}$ = 0.0772"
      ]
    },
    {
      "cell_type": "markdown",
      "metadata": {
        "id": "FaRQPpOxe1rb",
        "colab_type": "text"
      },
      "source": [
        "#####Including all the position dummy variables will be redundat and therefore can result in the dummy variable trap. Each player will fall into one of the three categories and the overall intercept is the intercept for the centers"
      ]
    },
    {
      "cell_type": "markdown",
      "metadata": {
        "id": "G4S1brU0fGJa",
        "colab_type": "text"
      },
      "source": [
        "#####A guard is estimated to score more than a center by 2.3147 points holding experience constant. The t statistic is 2.314, and therefore the difference is is statistically different from zero from the 5% level, against a two-sided alternative"
      ]
    },
    {
      "cell_type": "code",
      "metadata": {
        "id": "AQdIcbIgja_r",
        "colab_type": "code",
        "outputId": "de498b01-9825-470c-c9e9-fa2d178e1aa2",
        "colab": {
          "base_uri": "https://localhost:8080/",
          "height": 421
        }
      },
      "source": [
        "m3<-lm(points~exper+expersq+guard+forward+marr)\n",
        "summary(m3)"
      ],
      "execution_count": 0,
      "outputs": [
        {
          "output_type": "display_data",
          "data": {
            "text/plain": [
              "\n",
              "Call:\n",
              "lm(formula = points ~ exper + expersq + guard + forward + marr)\n",
              "\n",
              "Residuals:\n",
              "    Min      1Q  Median      3Q     Max \n",
              "-10.874  -4.227  -1.251   3.631  22.412 \n",
              "\n",
              "Coefficients:\n",
              "            Estimate Std. Error t value Pr(>|t|)    \n",
              "(Intercept)  4.70294    1.18174   3.980 8.93e-05 ***\n",
              "exper        1.23326    0.33421   3.690 0.000273 ***\n",
              "expersq     -0.07037    0.02416  -2.913 0.003892 ** \n",
              "guard        2.28632    1.00172   2.282 0.023265 *  \n",
              "forward      1.54091    1.00298   1.536 0.125660    \n",
              "marr         0.58427    0.74040   0.789 0.430751    \n",
              "---\n",
              "Signif. codes:  0 ‘***’ 0.001 ‘**’ 0.01 ‘*’ 0.05 ‘.’ 0.1 ‘ ’ 1\n",
              "\n",
              "Residual standard error: 5.672 on 263 degrees of freedom\n",
              "Multiple R-squared:  0.09313,\tAdjusted R-squared:  0.07588 \n",
              "F-statistic: 5.401 on 5 and 263 DF,  p-value: 9.526e-05\n"
            ]
          },
          "metadata": {
            "tags": []
          }
        }
      ]
    },
    {
      "cell_type": "markdown",
      "metadata": {
        "id": "JRamsRh2jjr0",
        "colab_type": "text"
      },
      "source": [
        "#####When we add marr to the regression, the coefficient is about 0.5843 (se= 0.7404). Therefore, a married player is estimated to score over just 0.5843 points more per game, with other factors (experience and position held constant), but it is not statistically significant from zero, since the p-value is equal to 0.4308. So on the basis of points per game, we cannot conclude that the married players are more productive."
      ]
    },
    {
      "cell_type": "code",
      "metadata": {
        "id": "tDIwsajZouzY",
        "colab_type": "code",
        "outputId": "75c3a137-34e4-4c62-e733-f5604069bab8",
        "colab": {
          "base_uri": "https://localhost:8080/",
          "height": 476
        }
      },
      "source": [
        "m4<-lm(points~exper+expersq+guard+forward+marr+marr*exper+marr*expersq)\n",
        "summary(m4)"
      ],
      "execution_count": 0,
      "outputs": [
        {
          "output_type": "display_data",
          "data": {
            "text/plain": [
              "\n",
              "Call:\n",
              "lm(formula = points ~ exper + expersq + guard + forward + marr + \n",
              "    marr * exper + marr * expersq)\n",
              "\n",
              "Residuals:\n",
              "    Min      1Q  Median      3Q     Max \n",
              "-10.239  -4.328  -1.067   3.742  22.197 \n",
              "\n",
              "Coefficients:\n",
              "             Estimate Std. Error t value Pr(>|t|)    \n",
              "(Intercept)   5.81615    1.34878   4.312 2.29e-05 ***\n",
              "exper         0.70255    0.43405   1.619   0.1067    \n",
              "expersq      -0.02950    0.03267  -0.903   0.3674    \n",
              "guard         2.25079    1.00002   2.251   0.0252 *  \n",
              "forward       1.62915    1.00199   1.626   0.1052    \n",
              "marr         -2.53750    2.03822  -1.245   0.2143    \n",
              "exper:marr    1.27965    0.68229   1.876   0.0618 .  \n",
              "expersq:marr -0.09359    0.04887  -1.915   0.0566 .  \n",
              "---\n",
              "Signif. codes:  0 ‘***’ 0.001 ‘**’ 0.01 ‘*’ 0.05 ‘.’ 0.1 ‘ ’ 1\n",
              "\n",
              "Residual standard error: 5.654 on 261 degrees of freedom\n",
              "Multiple R-squared:  0.1058,\tAdjusted R-squared:  0.08184 \n",
              "F-statistic: 4.413 on 7 and 261 DF,  p-value: 0.0001188\n"
            ]
          },
          "metadata": {
            "tags": []
          }
        }
      ]
    },
    {
      "cell_type": "markdown",
      "metadata": {
        "id": "buQaQiCto8Qn",
        "colab_type": "text"
      },
      "source": [
        "#####Adding the interactions produces different signs (positive and negative) on the three terms involving **_$marr$_**.  The **_$F$_** test for their joint significance, with 3 and 261 _**$df$**_, gives a _**$F$**_ value of 1.44 and _**$p$**_ value of 0.23. Therefore, there is no presence of a strong evidence that marital status has any partial effect on points scored.\n"
      ]
    },
    {
      "cell_type": "code",
      "metadata": {
        "id": "zCmTllxn9F4O",
        "colab_type": "code",
        "colab": {
          "base_uri": "https://localhost:8080/",
          "height": 421
        },
        "outputId": "094191e6-0f07-4eda-e3e7-5e4bdc97421c"
      },
      "source": [
        "m5<-lm(assists~exper+expersq+guard+forward+marr)\n",
        "summary(m5)"
      ],
      "execution_count": 32,
      "outputs": [
        {
          "output_type": "display_data",
          "data": {
            "text/plain": [
              "\n",
              "Call:\n",
              "lm(formula = assists ~ exper + expersq + guard + forward + marr)\n",
              "\n",
              "Residuals:\n",
              "    Min      1Q  Median      3Q     Max \n",
              "-3.3127 -1.0780 -0.3157  0.6788  8.2488 \n",
              "\n",
              "Coefficients:\n",
              "             Estimate Std. Error t value Pr(>|t|)    \n",
              "(Intercept) -0.225809   0.354904  -0.636  0.52516    \n",
              "exper        0.443603   0.100372   4.420 1.45e-05 ***\n",
              "expersq     -0.026726   0.007256  -3.683  0.00028 ***\n",
              "guard        2.491672   0.300842   8.282 6.19e-15 ***\n",
              "forward      0.447471   0.301220   1.486  0.13860    \n",
              "marr         0.321899   0.222359   1.448  0.14891    \n",
              "---\n",
              "Signif. codes:  0 ‘***’ 0.001 ‘**’ 0.01 ‘*’ 0.05 ‘.’ 0.1 ‘ ’ 1\n",
              "\n",
              "Residual standard error: 1.704 on 263 degrees of freedom\n",
              "Multiple R-squared:  0.3499,\tAdjusted R-squared:  0.3375 \n",
              "F-statistic: 28.31 on 5 and 263 DF,  p-value: < 2.2e-16\n"
            ]
          },
          "metadata": {
            "tags": []
          }
        }
      ]
    },
    {
      "cell_type": "markdown",
      "metadata": {
        "id": "5B_i-nij9VWb",
        "colab_type": "text"
      },
      "source": [
        "#####If we use assists as the dependent variable, the coefficient on marr becomes 0.3219 (se=0.2223). Therefore, it denotes that a married man has almost one-thirs more assist per game, holding experience and position fixed(constant). The p-value, against a two-sided alternative is about 0.1489, which is strong, but not overwhelming, having evidence that married men are more productive when it comes to assist in the games."
      ]
    }
  ]
}