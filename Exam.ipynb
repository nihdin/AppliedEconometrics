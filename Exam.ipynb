{
  "nbformat": 4,
  "nbformat_minor": 0,
  "metadata": {
    "colab": {
      "name": "Exam.ipynb",
      "provenance": [],
      "collapsed_sections": []
    },
    "kernelspec": {
      "name": "ir",
      "display_name": "R"
    }
  },
  "cells": [
    {
      "cell_type": "code",
      "metadata": {
        "id": "sqnXqSpFi_1F",
        "colab_type": "code",
        "outputId": "4ee1d60e-7b8e-4f46-c81a-e9523502da00",
        "colab": {
          "base_uri": "https://localhost:8080/",
          "height": 72
        }
      },
      "source": [
        "install.packages(\"wooldridge\")\n",
        "library(wooldridge)"
      ],
      "execution_count": 4,
      "outputs": [
        {
          "output_type": "stream",
          "text": [
            "Installing package into ‘/usr/local/lib/R/site-library’\n",
            "(as ‘lib’ is unspecified)\n",
            "\n"
          ],
          "name": "stderr"
        }
      ]
    },
    {
      "cell_type": "code",
      "metadata": {
        "id": "wdKLrOZCkT0n",
        "colab_type": "code",
        "colab": {}
      },
      "source": [
        "attach(wage2)"
      ],
      "execution_count": 0,
      "outputs": []
    },
    {
      "cell_type": "code",
      "metadata": {
        "id": "R_NEbRgxjMTQ",
        "colab_type": "code",
        "outputId": "b9c57b98-5e3a-4410-c293-c2faac100fe6",
        "colab": {
          "base_uri": "https://localhost:8080/",
          "height": 402
        }
      },
      "source": [
        "lm1<-lm(log(wage)~educ+exper+tenure)\n",
        "summary(lm1)\n",
        "cov(exper, tenure)"
      ],
      "execution_count": 6,
      "outputs": [
        {
          "output_type": "display_data",
          "data": {
            "text/plain": [
              "\n",
              "Call:\n",
              "lm(formula = log(wage) ~ educ + exper + tenure)\n",
              "\n",
              "Residuals:\n",
              "    Min      1Q  Median      3Q     Max \n",
              "-1.8282 -0.2401  0.0203  0.2569  1.3400 \n",
              "\n",
              "Coefficients:\n",
              "            Estimate Std. Error t value Pr(>|t|)    \n",
              "(Intercept) 5.496696   0.110528  49.731  < 2e-16 ***\n",
              "educ        0.074864   0.006512  11.495  < 2e-16 ***\n",
              "exper       0.015328   0.003370   4.549 6.10e-06 ***\n",
              "tenure      0.013375   0.002587   5.170 2.87e-07 ***\n",
              "---\n",
              "Signif. codes:  0 ‘***’ 0.001 ‘**’ 0.01 ‘*’ 0.05 ‘.’ 0.1 ‘ ’ 1\n",
              "\n",
              "Residual standard error: 0.3877 on 931 degrees of freedom\n",
              "Multiple R-squared:  0.1551,\tAdjusted R-squared:  0.1524 \n",
              "F-statistic: 56.97 on 3 and 931 DF,  p-value: < 2.2e-16\n"
            ]
          },
          "metadata": {
            "tags": []
          }
        },
        {
          "output_type": "display_data",
          "data": {
            "text/plain": [
              "[1] 5.409597"
            ],
            "text/latex": "5.40959704107456",
            "text/markdown": "5.40959704107456",
            "text/html": [
              "5.40959704107456"
            ]
          },
          "metadata": {
            "tags": []
          }
        }
      ]
    },
    {
      "cell_type": "markdown",
      "metadata": {
        "id": "GF6PAD5bkmoN",
        "colab_type": "text"
      },
      "source": [
        "#Linear Regression\n",
        "#####**_$log(wage)$_**= 5.4967 + 0.0749 **_$educ$_** + 0.0153 **_$exper$_** + 0.0134 **_$tenure$_**\n",
        "\n",
        "#####**_$R^{2}$_** = 0.15\n",
        "#####**_$N$_**= 935\n",
        "\n",
        "####**_$\\beta$<sub>2</sub>_** ---> Standard error= 0.0034\n",
        "####**_$\\beta$<sub>3</sub>_** ---> Standard error= 0.0026"
      ]
    },
    {
      "cell_type": "code",
      "metadata": {
        "id": "-oc9atp1kmPh",
        "colab_type": "code",
        "outputId": "9e0494b8-3fc9-4538-f94d-8375e48f0d32",
        "colab": {
          "base_uri": "https://localhost:8080/",
          "height": 348
        }
      },
      "source": [
        "lm2<-lm(log(wage)~educ)\n",
        "summary(lm2)"
      ],
      "execution_count": 7,
      "outputs": [
        {
          "output_type": "display_data",
          "data": {
            "text/plain": [
              "\n",
              "Call:\n",
              "lm(formula = log(wage) ~ educ)\n",
              "\n",
              "Residuals:\n",
              "     Min       1Q   Median       3Q      Max \n",
              "-1.94620 -0.24832  0.03507  0.27440  1.28106 \n",
              "\n",
              "Coefficients:\n",
              "            Estimate Std. Error t value Pr(>|t|)    \n",
              "(Intercept) 5.973062   0.081374   73.40   <2e-16 ***\n",
              "educ        0.059839   0.005963   10.04   <2e-16 ***\n",
              "---\n",
              "Signif. codes:  0 ‘***’ 0.001 ‘**’ 0.01 ‘*’ 0.05 ‘.’ 0.1 ‘ ’ 1\n",
              "\n",
              "Residual standard error: 0.4003 on 933 degrees of freedom\n",
              "Multiple R-squared:  0.09742,\tAdjusted R-squared:  0.09645 \n",
              "F-statistic: 100.7 on 1 and 933 DF,  p-value: < 2.2e-16\n"
            ]
          },
          "metadata": {
            "tags": []
          }
        }
      ]
    },
    {
      "cell_type": "code",
      "metadata": {
        "id": "4wXkvLZVy2Ja",
        "colab_type": "code",
        "outputId": "5e040f20-4ff4-4f2b-9db1-2e48f1347e38",
        "colab": {
          "base_uri": "https://localhost:8080/",
          "height": 122
        }
      },
      "source": [
        "anova(lm1, lm2)"
      ],
      "execution_count": 8,
      "outputs": [
        {
          "output_type": "display_data",
          "data": {
            "text/plain": [
              "  Res.Df RSS      Df Sum of Sq F        Pr(>F)      \n",
              "1 931    139.9610 NA        NA       NA           NA\n",
              "2 933    149.5186 -2 -9.557619 31.78795 4.422016e-14"
            ],
            "text/latex": "A anova: 2 × 6\n\\begin{tabular}{r|llllll}\n  & Res.Df & RSS & Df & Sum of Sq & F & Pr(>F)\\\\\n  & <dbl> & <dbl> & <dbl> & <dbl> & <dbl> & <dbl>\\\\\n\\hline\n\t1 & 931 & 139.9610 & NA &        NA &       NA &           NA\\\\\n\t2 & 933 & 149.5186 & -2 & -9.557619 & 31.78795 & 4.422016e-14\\\\\n\\end{tabular}\n",
            "text/markdown": "\nA anova: 2 × 6\n\n| <!--/--> | Res.Df &lt;dbl&gt; | RSS &lt;dbl&gt; | Df &lt;dbl&gt; | Sum of Sq &lt;dbl&gt; | F &lt;dbl&gt; | Pr(&gt;F) &lt;dbl&gt; |\n|---|---|---|---|---|---|---|\n| 1 | 931 | 139.9610 | NA |        NA |       NA |           NA |\n| 2 | 933 | 149.5186 | -2 | -9.557619 | 31.78795 | 4.422016e-14 |\n\n",
            "text/html": [
              "<table>\n",
              "<caption>A anova: 2 × 6</caption>\n",
              "<thead>\n",
              "\t<tr><th></th><th scope=col>Res.Df</th><th scope=col>RSS</th><th scope=col>Df</th><th scope=col>Sum of Sq</th><th scope=col>F</th><th scope=col>Pr(&gt;F)</th></tr>\n",
              "\t<tr><th></th><th scope=col>&lt;dbl&gt;</th><th scope=col>&lt;dbl&gt;</th><th scope=col>&lt;dbl&gt;</th><th scope=col>&lt;dbl&gt;</th><th scope=col>&lt;dbl&gt;</th><th scope=col>&lt;dbl&gt;</th></tr>\n",
              "</thead>\n",
              "<tbody>\n",
              "\t<tr><th scope=row>1</th><td>931</td><td>139.9610</td><td>NA</td><td>       NA</td><td>      NA</td><td>          NA</td></tr>\n",
              "\t<tr><th scope=row>2</th><td>933</td><td>149.5186</td><td>-2</td><td>-9.557619</td><td>31.78795</td><td>4.422016e-14</td></tr>\n",
              "</tbody>\n",
              "</table>\n"
            ]
          },
          "metadata": {
            "tags": []
          }
        }
      ]
    },
    {
      "cell_type": "code",
      "metadata": {
        "id": "NP36UU4hqSbv",
        "colab_type": "code",
        "outputId": "c0f432c9-01df-4e72-dbf7-6a67609c4f77",
        "colab": {
          "base_uri": "https://localhost:8080/",
          "height": 52
        }
      },
      "source": [
        "ssr.lm1 = sum((summary(lm1)$residuals)^2)\n",
        "ssr.lm2 = sum((summary(lm2)$residuals)^2)\n",
        "ssr.lm1\n",
        "ssr.lm2"
      ],
      "execution_count": 9,
      "outputs": [
        {
          "output_type": "display_data",
          "data": {
            "text/plain": [
              "[1] 139.961"
            ],
            "text/latex": "139.960962557614",
            "text/markdown": "139.960962557614",
            "text/html": [
              "139.960962557614"
            ]
          },
          "metadata": {
            "tags": []
          }
        },
        {
          "output_type": "display_data",
          "data": {
            "text/plain": [
              "[1] 149.5186"
            ],
            "text/latex": "149.518581813366",
            "text/markdown": "149.518581813366",
            "text/html": [
              "149.518581813366"
            ]
          },
          "metadata": {
            "tags": []
          }
        }
      ]
    },
    {
      "cell_type": "code",
      "metadata": {
        "id": "0TbVA0KhqjKp",
        "colab_type": "code",
        "outputId": "d70bdcbe-d043-4796-849f-0638d7ba1530",
        "colab": {
          "base_uri": "https://localhost:8080/",
          "height": 34
        }
      },
      "source": [
        "## P-value ##\n",
        "pf(31.7880, 2, 931, lower.tail=FALSE)"
      ],
      "execution_count": 10,
      "outputs": [
        {
          "output_type": "display_data",
          "data": {
            "text/plain": [
              "[1] 4.4218e-14"
            ],
            "text/latex": "4.4217998656456e-14",
            "text/markdown": "4.4217998656456e-14",
            "text/html": [
              "4.4217998656456e-14"
            ]
          },
          "metadata": {
            "tags": []
          }
        }
      ]
    },
    {
      "cell_type": "code",
      "metadata": {
        "id": "86F1H0HWq6as",
        "colab_type": "code",
        "outputId": "78d8e07b-7f1b-47e5-9585-167392b70f7b",
        "colab": {
          "base_uri": "https://localhost:8080/",
          "height": 34
        }
      },
      "source": [
        "## Critical Value##\n",
        "qf(0.95, 2, 931)"
      ],
      "execution_count": 11,
      "outputs": [
        {
          "output_type": "display_data",
          "data": {
            "text/plain": [
              "[1] 3.005393"
            ],
            "text/latex": "3.00539252545794",
            "text/markdown": "3.00539252545794",
            "text/html": [
              "3.00539252545794"
            ]
          },
          "metadata": {
            "tags": []
          }
        }
      ]
    },
    {
      "cell_type": "markdown",
      "metadata": {
        "id": "wS-Ru2hVt80v",
        "colab_type": "text"
      },
      "source": [
        "#####Anova shows that the model lm1 is is significantly different from model lm2. That means that $\\beta$<sub>2</sub> and $\\beta$<sub>3</sub> are jointly significant."
      ]
    },
    {
      "cell_type": "code",
      "metadata": {
        "id": "taTuBiPKt70Q",
        "colab_type": "code",
        "outputId": "53045e3d-f71f-40f9-9321-27221cffc9f4",
        "colab": {
          "base_uri": "https://localhost:8080/",
          "height": 439
        }
      },
      "source": [
        "install.packages(\"lmtest\")\n",
        "library(lmtest)\n",
        "install.packages(\"plm\")\n",
        "library(plm)"
      ],
      "execution_count": 12,
      "outputs": [
        {
          "output_type": "stream",
          "text": [
            "Installing package into ‘/usr/local/lib/R/site-library’\n",
            "(as ‘lib’ is unspecified)\n",
            "\n",
            "also installing the dependency ‘zoo’\n",
            "\n",
            "\n",
            "Loading required package: zoo\n",
            "\n",
            "\n",
            "Attaching package: ‘zoo’\n",
            "\n",
            "\n",
            "The following objects are masked from ‘package:base’:\n",
            "\n",
            "    as.Date, as.Date.numeric\n",
            "\n",
            "\n",
            "Installing package into ‘/usr/local/lib/R/site-library’\n",
            "(as ‘lib’ is unspecified)\n",
            "\n",
            "also installing the dependencies ‘miscTools’, ‘bibtex’, ‘gbRd’, ‘bdsmatrix’, ‘sandwich’, ‘maxLik’, ‘Rdpack’, ‘Formula’\n",
            "\n",
            "\n"
          ],
          "name": "stderr"
        }
      ]
    },
    {
      "cell_type": "code",
      "metadata": {
        "id": "Bwu8TB-DvI6P",
        "colab_type": "code",
        "outputId": "26e67009-8629-459f-e525-f5121abc7f52",
        "colab": {
          "base_uri": "https://localhost:8080/",
          "height": 384
        }
      },
      "source": [
        "coeftest(lm1)\n",
        "coeftest(lm1, vcov=vcovHC, type=\"HC0\") "
      ],
      "execution_count": 16,
      "outputs": [
        {
          "output_type": "display_data",
          "data": {
            "text/plain": [
              "\n",
              "t test of coefficients:\n",
              "\n",
              "             Estimate Std. Error t value  Pr(>|t|)    \n",
              "(Intercept) 5.4966957  0.1105282 49.7311 < 2.2e-16 ***\n",
              "educ        0.0748638  0.0065124 11.4955 < 2.2e-16 ***\n",
              "exper       0.0153285  0.0033696  4.5491 6.100e-06 ***\n",
              "tenure      0.0133748  0.0025872  5.1696 2.871e-07 ***\n",
              "---\n",
              "Signif. codes:  0 ‘***’ 0.001 ‘**’ 0.01 ‘*’ 0.05 ‘.’ 0.1 ‘ ’ 1\n"
            ]
          },
          "metadata": {
            "tags": []
          }
        },
        {
          "output_type": "display_data",
          "data": {
            "text/plain": [
              "\n",
              "t test of coefficients:\n",
              "\n",
              "             Estimate Std. Error t value  Pr(>|t|)    \n",
              "(Intercept) 5.4966957  0.1117899 49.1699 < 2.2e-16 ***\n",
              "educ        0.0748638  0.0066394 11.2757 < 2.2e-16 ***\n",
              "exper       0.0153285  0.0033980  4.5110 7.275e-06 ***\n",
              "tenure      0.0133748  0.0026517  5.0438 5.485e-07 ***\n",
              "---\n",
              "Signif. codes:  0 ‘***’ 0.001 ‘**’ 0.01 ‘*’ 0.05 ‘.’ 0.1 ‘ ’ 1\n"
            ]
          },
          "metadata": {
            "tags": []
          }
        }
      ]
    },
    {
      "cell_type": "markdown",
      "metadata": {
        "id": "PRoyYavnDxmK",
        "colab_type": "text"
      },
      "source": [
        "#####t($\\beta$<sub>1</sub>)= 11.49. It is statistically significant at $p$ < 0.05\n",
        "#####The value of p is 2.2e-16\n"
      ]
    },
    {
      "cell_type": "code",
      "metadata": {
        "id": "Wp8g62iJDwhk",
        "colab_type": "code",
        "outputId": "205e31e6-9d1d-4d99-bd17-cd5b6ac05c44",
        "colab": {
          "base_uri": "https://localhost:8080/",
          "height": 173
        }
      },
      "source": [
        "expten=exper+tenure\n",
        "expten"
      ],
      "execution_count": 20,
      "outputs": [
        {
          "output_type": "display_data",
          "data": {
            "text/plain": [
              "  [1] 13 27 20 20 19 16 13 22 14 32 21 20  7  9 18 19 15 29 11 20 10 14 17 25 19\n",
              " [26] 17 21 12 13 21 19 19 14 20 17 19 12 23 11 18 32 19 20 27 24 24 18 16 21 26\n",
              " [51] 36 20 22 19 12 20 12 19  8 29 17 24 31 19 30 20 12 13 30 10 21 19 21 12 15\n",
              " [76] 14 23 32 10 15 19 22 18 17 18 14 29  6  9 16 21 13 19 17 16 25 21 21 12 17\n",
              "[101] 18 18 32 18 17 31 15 17 12 15 16 33 13 21 21 18 21 21 18 30 23 38 26 14 20\n",
              "[126] 13 21 18 25 21 13 11 14  6 17 21 18 23 31 16 31 16 21 13 33 29 13 15 19 19\n",
              "[151] 22  7 14 13 12 31  8 23 19 10 19 22 23 12 33 17  8 27 31 11 17 25 18 17 16\n",
              "[176] 15 14 21 17 17 17 20  8 19 20 18  8 21 25 30 17 34 11  2 18 16 20 27 18 21\n",
              "[201] 16 11 25 13 23 29 33 15 15 14 10 18  7  8 18 18 22 22 19 20 35 23 36 17 22\n",
              "[226] 16 17 17 19 20  8 16 27 22 10 16 11  9 24 19 12 13 15 25  9 21 23 24 34 26\n",
              "[251] 11 28 31 17 26 16 31 14 22 15 11 17  7 13 11 22 13 35 10  8 12 20 13 21 16\n",
              "[276] 11 10 24 15 19 15  6 28 28 25 16 18 20 11 28  9 27 40 27 22 33 15 29 35 25\n",
              "[301] 27 25 18 10 30 32 10 25 14 17 12  8 11 27 15 19 29 42 31 23 14 18 11 25 16\n",
              "[326] 13 14 13 27 14 25 15 31 20 33  6 23 22 14 15 13 28 19 13 13 10 37 18 31 20\n",
              "[351] 20 18 34 13 10 25 23 28 16 11 26 10 19 14 22  9 33 12 11 35 21 22 18 15  8\n",
              "[376] 10 21 10 26 20 18 16 23 15 16 13  8 30 35 27 27 23 11 11 33  9 35 12 17 39\n",
              "[401] 16 16 13 30 17 18 14 24 11 12 20 23 22 27 13 14 15  9  8 21 29 15 18 34 24\n",
              "[426]  5 17 24 22 18 15 14 24 11 22 14 19 11 27 34 31 19 20 14 20 16  9 21 10 18\n",
              "[451] 33 10 15 35 17 33 13 16 14 17 13 19 13 29 30 21 22 20 35 21 11 14 23 26 31\n",
              "[476] 19 22 16 10 20 19 32 21 22 31 12 14 14 35 12 30 14 28 17 30 20 29 22 25 37\n",
              "[501] 16 14 11 19 20 19 13 35 22 17 20 22 20 26 13 18 21 17 15 18 12  8 18 25 25\n",
              "[526] 19 11  8 20 17 31 24 12 11 33  9 15 28 18 18  8 21  8  9 17 13 10 24 27 26\n",
              "[551] 15 26  8 27 17 22 30 25 15 14  4 24 16 28 21 14 20 11 30 29 13 12 19 17 20\n",
              "[576] 30  9 28 26 16 33 10 21 12 16 14 22 34 10 21  8 36  5  8 15 12 25 15 23 20\n",
              "[601] 11 12 24 14 15 35 32 23 26 10 35 11 15 16 12 22  7 22  9 13 21 10 17 25 12\n",
              "[626] 22 13  8 20 16 18 17 15 26 17 16 15 21 21 10 27 20 11 26 16 23 17  9 12 17\n",
              "[651] 22 17 16 29 22 18  6 26 19 10 25 15 15 17 17 13 19 31  8 27 30 13 18 25 24\n",
              "[676] 23 15 21 34 10 31 11 33 19 17 13 21 17 13 26 30 15 15 30 30 15  7 10 11 14\n",
              "[701] 13  6 10 17 15 23  2 22 29 24 39 19 21 18 27 18 24 10 15 16  5  6 16  7 16\n",
              "[726] 21 12 23 17 19 19  9 13 13 12  5 14 30 23 12 14 14 18 22 23 13 13 14  7 11\n",
              "[751] 11 20 11 17  2  8 29 14 17  7 13 10 25  8 18 17 28 24 34 16 24 22 23 31 19\n",
              "[776] 21 16 19  8 11 18 10 16 12 10 27 27 32 12 27 32 21 28 13 13 27 24 10 20 12\n",
              "[801] 18 18 36 16 18 12 12 12 26 20 28 25 23 22 22 30 18 10 14 21 16 15 13 16 10\n",
              "[826] 16  6 23 39 29  2 20  6 15 21 11 15  8 17 15 30 13 14 23 33 21 27 14 21 27\n",
              "[851] 24  8  5 25 20 25 20 16 34 13  7  8 18  8 29 39 21  9  5 16  7 23 34 13 19\n",
              "[876] 27 26 13 29 28 14  9 22 12 16 29 18 17 12 19 16 21 14 33 19 26 19 28 21 14\n",
              "[901] 15 23 22 20 12 27 32 23 12 16 33 30  5  9 14  9 14  7 17  9  9 27  7 11 18\n",
              "[926] 14 21 16 12 19  7 13 22 24 35"
            ],
            "text/latex": "\\begin{enumerate*}\n\\item 13\n\\item 27\n\\item 20\n\\item 20\n\\item 19\n\\item 16\n\\item 13\n\\item 22\n\\item 14\n\\item 32\n\\item 21\n\\item 20\n\\item 7\n\\item 9\n\\item 18\n\\item 19\n\\item 15\n\\item 29\n\\item 11\n\\item 20\n\\item 10\n\\item 14\n\\item 17\n\\item 25\n\\item 19\n\\item 17\n\\item 21\n\\item 12\n\\item 13\n\\item 21\n\\item 19\n\\item 19\n\\item 14\n\\item 20\n\\item 17\n\\item 19\n\\item 12\n\\item 23\n\\item 11\n\\item 18\n\\item 32\n\\item 19\n\\item 20\n\\item 27\n\\item 24\n\\item 24\n\\item 18\n\\item 16\n\\item 21\n\\item 26\n\\item 36\n\\item 20\n\\item 22\n\\item 19\n\\item 12\n\\item 20\n\\item 12\n\\item 19\n\\item 8\n\\item 29\n\\item 17\n\\item 24\n\\item 31\n\\item 19\n\\item 30\n\\item 20\n\\item 12\n\\item 13\n\\item 30\n\\item 10\n\\item 21\n\\item 19\n\\item 21\n\\item 12\n\\item 15\n\\item 14\n\\item 23\n\\item 32\n\\item 10\n\\item 15\n\\item 19\n\\item 22\n\\item 18\n\\item 17\n\\item 18\n\\item 14\n\\item 29\n\\item 6\n\\item 9\n\\item 16\n\\item 21\n\\item 13\n\\item 19\n\\item 17\n\\item 16\n\\item 25\n\\item 21\n\\item 21\n\\item 12\n\\item 17\n\\item 18\n\\item 18\n\\item 32\n\\item 18\n\\item 17\n\\item 31\n\\item 15\n\\item 17\n\\item 12\n\\item 15\n\\item 16\n\\item 33\n\\item 13\n\\item 21\n\\item 21\n\\item 18\n\\item 21\n\\item 21\n\\item 18\n\\item 30\n\\item 23\n\\item 38\n\\item 26\n\\item 14\n\\item 20\n\\item 13\n\\item 21\n\\item 18\n\\item 25\n\\item 21\n\\item 13\n\\item 11\n\\item 14\n\\item 6\n\\item 17\n\\item 21\n\\item 18\n\\item 23\n\\item 31\n\\item 16\n\\item 31\n\\item 16\n\\item 21\n\\item 13\n\\item 33\n\\item 29\n\\item 13\n\\item 15\n\\item 19\n\\item 19\n\\item 22\n\\item 7\n\\item 14\n\\item 13\n\\item 12\n\\item 31\n\\item 8\n\\item 23\n\\item 19\n\\item 10\n\\item 19\n\\item 22\n\\item 23\n\\item 12\n\\item 33\n\\item 17\n\\item 8\n\\item 27\n\\item 31\n\\item 11\n\\item 17\n\\item 25\n\\item 18\n\\item 17\n\\item 16\n\\item 15\n\\item 14\n\\item 21\n\\item 17\n\\item 17\n\\item 17\n\\item 20\n\\item 8\n\\item 19\n\\item 20\n\\item 18\n\\item 8\n\\item 21\n\\item 25\n\\item 30\n\\item 17\n\\item 34\n\\item 11\n\\item 2\n\\item 18\n\\item 16\n\\item 20\n\\item 27\n\\item 18\n\\item 21\n\\item ⋯\n\\item 5\n\\item 14\n\\item 30\n\\item 23\n\\item 12\n\\item 14\n\\item 14\n\\item 18\n\\item 22\n\\item 23\n\\item 13\n\\item 13\n\\item 14\n\\item 7\n\\item 11\n\\item 11\n\\item 20\n\\item 11\n\\item 17\n\\item 2\n\\item 8\n\\item 29\n\\item 14\n\\item 17\n\\item 7\n\\item 13\n\\item 10\n\\item 25\n\\item 8\n\\item 18\n\\item 17\n\\item 28\n\\item 24\n\\item 34\n\\item 16\n\\item 24\n\\item 22\n\\item 23\n\\item 31\n\\item 19\n\\item 21\n\\item 16\n\\item 19\n\\item 8\n\\item 11\n\\item 18\n\\item 10\n\\item 16\n\\item 12\n\\item 10\n\\item 27\n\\item 27\n\\item 32\n\\item 12\n\\item 27\n\\item 32\n\\item 21\n\\item 28\n\\item 13\n\\item 13\n\\item 27\n\\item 24\n\\item 10\n\\item 20\n\\item 12\n\\item 18\n\\item 18\n\\item 36\n\\item 16\n\\item 18\n\\item 12\n\\item 12\n\\item 12\n\\item 26\n\\item 20\n\\item 28\n\\item 25\n\\item 23\n\\item 22\n\\item 22\n\\item 30\n\\item 18\n\\item 10\n\\item 14\n\\item 21\n\\item 16\n\\item 15\n\\item 13\n\\item 16\n\\item 10\n\\item 16\n\\item 6\n\\item 23\n\\item 39\n\\item 29\n\\item 2\n\\item 20\n\\item 6\n\\item 15\n\\item 21\n\\item 11\n\\item 15\n\\item 8\n\\item 17\n\\item 15\n\\item 30\n\\item 13\n\\item 14\n\\item 23\n\\item 33\n\\item 21\n\\item 27\n\\item 14\n\\item 21\n\\item 27\n\\item 24\n\\item 8\n\\item 5\n\\item 25\n\\item 20\n\\item 25\n\\item 20\n\\item 16\n\\item 34\n\\item 13\n\\item 7\n\\item 8\n\\item 18\n\\item 8\n\\item 29\n\\item 39\n\\item 21\n\\item 9\n\\item 5\n\\item 16\n\\item 7\n\\item 23\n\\item 34\n\\item 13\n\\item 19\n\\item 27\n\\item 26\n\\item 13\n\\item 29\n\\item 28\n\\item 14\n\\item 9\n\\item 22\n\\item 12\n\\item 16\n\\item 29\n\\item 18\n\\item 17\n\\item 12\n\\item 19\n\\item 16\n\\item 21\n\\item 14\n\\item 33\n\\item 19\n\\item 26\n\\item 19\n\\item 28\n\\item 21\n\\item 14\n\\item 15\n\\item 23\n\\item 22\n\\item 20\n\\item 12\n\\item 27\n\\item 32\n\\item 23\n\\item 12\n\\item 16\n\\item 33\n\\item 30\n\\item 5\n\\item 9\n\\item 14\n\\item 9\n\\item 14\n\\item 7\n\\item 17\n\\item 9\n\\item 9\n\\item 27\n\\item 7\n\\item 11\n\\item 18\n\\item 14\n\\item 21\n\\item 16\n\\item 12\n\\item 19\n\\item 7\n\\item 13\n\\item 22\n\\item 24\n\\item 35\n\\end{enumerate*}\n",
            "text/markdown": "1. 13\n2. 27\n3. 20\n4. 20\n5. 19\n6. 16\n7. 13\n8. 22\n9. 14\n10. 32\n11. 21\n12. 20\n13. 7\n14. 9\n15. 18\n16. 19\n17. 15\n18. 29\n19. 11\n20. 20\n21. 10\n22. 14\n23. 17\n24. 25\n25. 19\n26. 17\n27. 21\n28. 12\n29. 13\n30. 21\n31. 19\n32. 19\n33. 14\n34. 20\n35. 17\n36. 19\n37. 12\n38. 23\n39. 11\n40. 18\n41. 32\n42. 19\n43. 20\n44. 27\n45. 24\n46. 24\n47. 18\n48. 16\n49. 21\n50. 26\n51. 36\n52. 20\n53. 22\n54. 19\n55. 12\n56. 20\n57. 12\n58. 19\n59. 8\n60. 29\n61. 17\n62. 24\n63. 31\n64. 19\n65. 30\n66. 20\n67. 12\n68. 13\n69. 30\n70. 10\n71. 21\n72. 19\n73. 21\n74. 12\n75. 15\n76. 14\n77. 23\n78. 32\n79. 10\n80. 15\n81. 19\n82. 22\n83. 18\n84. 17\n85. 18\n86. 14\n87. 29\n88. 6\n89. 9\n90. 16\n91. 21\n92. 13\n93. 19\n94. 17\n95. 16\n96. 25\n97. 21\n98. 21\n99. 12\n100. 17\n101. 18\n102. 18\n103. 32\n104. 18\n105. 17\n106. 31\n107. 15\n108. 17\n109. 12\n110. 15\n111. 16\n112. 33\n113. 13\n114. 21\n115. 21\n116. 18\n117. 21\n118. 21\n119. 18\n120. 30\n121. 23\n122. 38\n123. 26\n124. 14\n125. 20\n126. 13\n127. 21\n128. 18\n129. 25\n130. 21\n131. 13\n132. 11\n133. 14\n134. 6\n135. 17\n136. 21\n137. 18\n138. 23\n139. 31\n140. 16\n141. 31\n142. 16\n143. 21\n144. 13\n145. 33\n146. 29\n147. 13\n148. 15\n149. 19\n150. 19\n151. 22\n152. 7\n153. 14\n154. 13\n155. 12\n156. 31\n157. 8\n158. 23\n159. 19\n160. 10\n161. 19\n162. 22\n163. 23\n164. 12\n165. 33\n166. 17\n167. 8\n168. 27\n169. 31\n170. 11\n171. 17\n172. 25\n173. 18\n174. 17\n175. 16\n176. 15\n177. 14\n178. 21\n179. 17\n180. 17\n181. 17\n182. 20\n183. 8\n184. 19\n185. 20\n186. 18\n187. 8\n188. 21\n189. 25\n190. 30\n191. 17\n192. 34\n193. 11\n194. 2\n195. 18\n196. 16\n197. 20\n198. 27\n199. 18\n200. 21\n201. ⋯\n202. 5\n203. 14\n204. 30\n205. 23\n206. 12\n207. 14\n208. 14\n209. 18\n210. 22\n211. 23\n212. 13\n213. 13\n214. 14\n215. 7\n216. 11\n217. 11\n218. 20\n219. 11\n220. 17\n221. 2\n222. 8\n223. 29\n224. 14\n225. 17\n226. 7\n227. 13\n228. 10\n229. 25\n230. 8\n231. 18\n232. 17\n233. 28\n234. 24\n235. 34\n236. 16\n237. 24\n238. 22\n239. 23\n240. 31\n241. 19\n242. 21\n243. 16\n244. 19\n245. 8\n246. 11\n247. 18\n248. 10\n249. 16\n250. 12\n251. 10\n252. 27\n253. 27\n254. 32\n255. 12\n256. 27\n257. 32\n258. 21\n259. 28\n260. 13\n261. 13\n262. 27\n263. 24\n264. 10\n265. 20\n266. 12\n267. 18\n268. 18\n269. 36\n270. 16\n271. 18\n272. 12\n273. 12\n274. 12\n275. 26\n276. 20\n277. 28\n278. 25\n279. 23\n280. 22\n281. 22\n282. 30\n283. 18\n284. 10\n285. 14\n286. 21\n287. 16\n288. 15\n289. 13\n290. 16\n291. 10\n292. 16\n293. 6\n294. 23\n295. 39\n296. 29\n297. 2\n298. 20\n299. 6\n300. 15\n301. 21\n302. 11\n303. 15\n304. 8\n305. 17\n306. 15\n307. 30\n308. 13\n309. 14\n310. 23\n311. 33\n312. 21\n313. 27\n314. 14\n315. 21\n316. 27\n317. 24\n318. 8\n319. 5\n320. 25\n321. 20\n322. 25\n323. 20\n324. 16\n325. 34\n326. 13\n327. 7\n328. 8\n329. 18\n330. 8\n331. 29\n332. 39\n333. 21\n334. 9\n335. 5\n336. 16\n337. 7\n338. 23\n339. 34\n340. 13\n341. 19\n342. 27\n343. 26\n344. 13\n345. 29\n346. 28\n347. 14\n348. 9\n349. 22\n350. 12\n351. 16\n352. 29\n353. 18\n354. 17\n355. 12\n356. 19\n357. 16\n358. 21\n359. 14\n360. 33\n361. 19\n362. 26\n363. 19\n364. 28\n365. 21\n366. 14\n367. 15\n368. 23\n369. 22\n370. 20\n371. 12\n372. 27\n373. 32\n374. 23\n375. 12\n376. 16\n377. 33\n378. 30\n379. 5\n380. 9\n381. 14\n382. 9\n383. 14\n384. 7\n385. 17\n386. 9\n387. 9\n388. 27\n389. 7\n390. 11\n391. 18\n392. 14\n393. 21\n394. 16\n395. 12\n396. 19\n397. 7\n398. 13\n399. 22\n400. 24\n401. 35\n\n\n",
            "text/html": [
              "<style>\n",
              ".list-inline {list-style: none; margin:0; padding: 0}\n",
              ".list-inline>li {display: inline-block}\n",
              ".list-inline>li:not(:last-child)::after {content: \"\\00b7\"; padding: 0 .5ex}\n",
              "</style>\n",
              "<ol class=list-inline><li>13</li><li>27</li><li>20</li><li>20</li><li>19</li><li>16</li><li>13</li><li>22</li><li>14</li><li>32</li><li>21</li><li>20</li><li>7</li><li>9</li><li>18</li><li>19</li><li>15</li><li>29</li><li>11</li><li>20</li><li>10</li><li>14</li><li>17</li><li>25</li><li>19</li><li>17</li><li>21</li><li>12</li><li>13</li><li>21</li><li>19</li><li>19</li><li>14</li><li>20</li><li>17</li><li>19</li><li>12</li><li>23</li><li>11</li><li>18</li><li>32</li><li>19</li><li>20</li><li>27</li><li>24</li><li>24</li><li>18</li><li>16</li><li>21</li><li>26</li><li>36</li><li>20</li><li>22</li><li>19</li><li>12</li><li>20</li><li>12</li><li>19</li><li>8</li><li>29</li><li>17</li><li>24</li><li>31</li><li>19</li><li>30</li><li>20</li><li>12</li><li>13</li><li>30</li><li>10</li><li>21</li><li>19</li><li>21</li><li>12</li><li>15</li><li>14</li><li>23</li><li>32</li><li>10</li><li>15</li><li>19</li><li>22</li><li>18</li><li>17</li><li>18</li><li>14</li><li>29</li><li>6</li><li>9</li><li>16</li><li>21</li><li>13</li><li>19</li><li>17</li><li>16</li><li>25</li><li>21</li><li>21</li><li>12</li><li>17</li><li>18</li><li>18</li><li>32</li><li>18</li><li>17</li><li>31</li><li>15</li><li>17</li><li>12</li><li>15</li><li>16</li><li>33</li><li>13</li><li>21</li><li>21</li><li>18</li><li>21</li><li>21</li><li>18</li><li>30</li><li>23</li><li>38</li><li>26</li><li>14</li><li>20</li><li>13</li><li>21</li><li>18</li><li>25</li><li>21</li><li>13</li><li>11</li><li>14</li><li>6</li><li>17</li><li>21</li><li>18</li><li>23</li><li>31</li><li>16</li><li>31</li><li>16</li><li>21</li><li>13</li><li>33</li><li>29</li><li>13</li><li>15</li><li>19</li><li>19</li><li>22</li><li>7</li><li>14</li><li>13</li><li>12</li><li>31</li><li>8</li><li>23</li><li>19</li><li>10</li><li>19</li><li>22</li><li>23</li><li>12</li><li>33</li><li>17</li><li>8</li><li>27</li><li>31</li><li>11</li><li>17</li><li>25</li><li>18</li><li>17</li><li>16</li><li>15</li><li>14</li><li>21</li><li>17</li><li>17</li><li>17</li><li>20</li><li>8</li><li>19</li><li>20</li><li>18</li><li>8</li><li>21</li><li>25</li><li>30</li><li>17</li><li>34</li><li>11</li><li>2</li><li>18</li><li>16</li><li>20</li><li>27</li><li>18</li><li>21</li><li>⋯</li><li>5</li><li>14</li><li>30</li><li>23</li><li>12</li><li>14</li><li>14</li><li>18</li><li>22</li><li>23</li><li>13</li><li>13</li><li>14</li><li>7</li><li>11</li><li>11</li><li>20</li><li>11</li><li>17</li><li>2</li><li>8</li><li>29</li><li>14</li><li>17</li><li>7</li><li>13</li><li>10</li><li>25</li><li>8</li><li>18</li><li>17</li><li>28</li><li>24</li><li>34</li><li>16</li><li>24</li><li>22</li><li>23</li><li>31</li><li>19</li><li>21</li><li>16</li><li>19</li><li>8</li><li>11</li><li>18</li><li>10</li><li>16</li><li>12</li><li>10</li><li>27</li><li>27</li><li>32</li><li>12</li><li>27</li><li>32</li><li>21</li><li>28</li><li>13</li><li>13</li><li>27</li><li>24</li><li>10</li><li>20</li><li>12</li><li>18</li><li>18</li><li>36</li><li>16</li><li>18</li><li>12</li><li>12</li><li>12</li><li>26</li><li>20</li><li>28</li><li>25</li><li>23</li><li>22</li><li>22</li><li>30</li><li>18</li><li>10</li><li>14</li><li>21</li><li>16</li><li>15</li><li>13</li><li>16</li><li>10</li><li>16</li><li>6</li><li>23</li><li>39</li><li>29</li><li>2</li><li>20</li><li>6</li><li>15</li><li>21</li><li>11</li><li>15</li><li>8</li><li>17</li><li>15</li><li>30</li><li>13</li><li>14</li><li>23</li><li>33</li><li>21</li><li>27</li><li>14</li><li>21</li><li>27</li><li>24</li><li>8</li><li>5</li><li>25</li><li>20</li><li>25</li><li>20</li><li>16</li><li>34</li><li>13</li><li>7</li><li>8</li><li>18</li><li>8</li><li>29</li><li>39</li><li>21</li><li>9</li><li>5</li><li>16</li><li>7</li><li>23</li><li>34</li><li>13</li><li>19</li><li>27</li><li>26</li><li>13</li><li>29</li><li>28</li><li>14</li><li>9</li><li>22</li><li>12</li><li>16</li><li>29</li><li>18</li><li>17</li><li>12</li><li>19</li><li>16</li><li>21</li><li>14</li><li>33</li><li>19</li><li>26</li><li>19</li><li>28</li><li>21</li><li>14</li><li>15</li><li>23</li><li>22</li><li>20</li><li>12</li><li>27</li><li>32</li><li>23</li><li>12</li><li>16</li><li>33</li><li>30</li><li>5</li><li>9</li><li>14</li><li>9</li><li>14</li><li>7</li><li>17</li><li>9</li><li>9</li><li>27</li><li>7</li><li>11</li><li>18</li><li>14</li><li>21</li><li>16</li><li>12</li><li>19</li><li>7</li><li>13</li><li>22</li><li>24</li><li>35</li></ol>\n"
            ]
          },
          "metadata": {
            "tags": []
          }
        }
      ]
    },
    {
      "cell_type": "code",
      "metadata": {
        "id": "scYih8UHRw9R",
        "colab_type": "code",
        "colab": {
          "base_uri": "https://localhost:8080/",
          "height": 384
        },
        "outputId": "cd53a6ab-5e2c-46fa-89e2-2194c1b9489e"
      },
      "source": [
        "lm3<-lm(log(wage)~educ+exper+expten)\n",
        "summary(lm3)"
      ],
      "execution_count": 23,
      "outputs": [
        {
          "output_type": "display_data",
          "data": {
            "text/plain": [
              "\n",
              "Call:\n",
              "lm(formula = log(wage) ~ educ + exper + expten)\n",
              "\n",
              "Residuals:\n",
              "    Min      1Q  Median      3Q     Max \n",
              "-1.8282 -0.2401  0.0203  0.2569  1.3400 \n",
              "\n",
              "Coefficients:\n",
              "            Estimate Std. Error t value Pr(>|t|)    \n",
              "(Intercept) 5.496696   0.110528  49.731  < 2e-16 ***\n",
              "educ        0.074864   0.006512  11.495  < 2e-16 ***\n",
              "exper       0.001954   0.004743   0.412    0.681    \n",
              "expten      0.013375   0.002587   5.170 2.87e-07 ***\n",
              "---\n",
              "Signif. codes:  0 ‘***’ 0.001 ‘**’ 0.01 ‘*’ 0.05 ‘.’ 0.1 ‘ ’ 1\n",
              "\n",
              "Residual standard error: 0.3877 on 931 degrees of freedom\n",
              "Multiple R-squared:  0.1551,\tAdjusted R-squared:  0.1524 \n",
              "F-statistic: 56.97 on 3 and 931 DF,  p-value: < 2.2e-16\n"
            ]
          },
          "metadata": {
            "tags": []
          }
        }
      ]
    },
    {
      "cell_type": "markdown",
      "metadata": {
        "id": "n-GtJH4kR-Fn",
        "colab_type": "text"
      },
      "source": [
        "Not Statistically significant at 5%"
      ]
    }
  ]
}