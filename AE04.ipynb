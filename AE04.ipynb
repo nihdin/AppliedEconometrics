{
  "nbformat": 4,
  "nbformat_minor": 0,
  "metadata": {
    "colab": {
      "name": "AE04.ipynb",
      "provenance": [],
      "collapsed_sections": [],
      "authorship_tag": "ABX9TyPKuhFtUppz04UfMXWGe3D0",
      "include_colab_link": true
    },
    "kernelspec": {
      "name": "ir",
      "display_name": "R"
    }
  },
  "cells": [
    {
      "cell_type": "markdown",
      "metadata": {
        "id": "view-in-github",
        "colab_type": "text"
      },
      "source": [
        "<a href=\"https://colab.research.google.com/github/nihdin/AppliedEconometrics/blob/master/AE04.ipynb\" target=\"_parent\"><img src=\"https://colab.research.google.com/assets/colab-badge.svg\" alt=\"Open In Colab\"/></a>"
      ]
    },
    {
      "cell_type": "markdown",
      "metadata": {
        "id": "pYRQHr_jH8Zq",
        "colab_type": "text"
      },
      "source": [
        "#Stata codes"
      ]
    },
    {
      "cell_type": "markdown",
      "metadata": {
        "id": "G9LKVtZPIFs5",
        "colab_type": "text"
      },
      "source": [
        "_sum nettfa if fsize==1_"
      ]
    },
    {
      "cell_type": "code",
      "metadata": {
        "id": "dyEnzPAbI4ZT",
        "colab_type": "code",
        "colab": {}
      },
      "source": [
        "    Variable |        Obs        Mean    Std. Dev.       Min        Max\n",
        "-------------+---------------------------------------------------------\n",
        "      nettfa |      2,017    13.59498    47.59058     -143.5   1134.098\n"
      ],
      "execution_count": 0,
      "outputs": []
    },
    {
      "cell_type": "markdown",
      "metadata": {
        "id": "sbMHJGZtJCUh",
        "colab_type": "text"
      },
      "source": [
        "#####There are 2017 single people in the sample of 9275"
      ]
    },
    {
      "cell_type": "markdown",
      "metadata": {
        "id": "hesubTzqJ1gH",
        "colab_type": "text"
      },
      "source": [
        "_reg nettfa inc age if fsize==1_"
      ]
    },
    {
      "cell_type": "code",
      "metadata": {
        "id": "YCloWVnXJ0kZ",
        "colab_type": "code",
        "colab": {}
      },
      "source": [
        "      Source |       SS           df       MS      Number of obs   =     2,017\n",
        "-------------+----------------------------------   F(2, 2014)      =    136.46\n",
        "       Model |  544916.989         2  272458.495   Prob > F        =    0.0000\n",
        "    Residual |  4021048.06     2,014  1996.54819   R-squared       =    0.1193\n",
        "-------------+----------------------------------   Adj R-squared   =    0.1185\n",
        "       Total |  4565965.05     2,016  2264.86361   Root MSE        =    44.683\n",
        "\n",
        "------------------------------------------------------------------------------\n",
        "      nettfa |      Coef.   Std. Err.      t    P>|t|     [95% Conf. Interval]\n",
        "-------------+----------------------------------------------------------------\n",
        "         inc |   .7993167   .0597307    13.38   0.000     .6821762    .9164572\n",
        "         age |   .8426563   .0920169     9.16   0.000     .6621982    1.023115\n",
        "       _cons |  -43.03981   4.080393   -10.55   0.000    -51.04204   -35.03758\n",
        "------------------------------------------------------------------------------\n"
      ],
      "execution_count": 0,
      "outputs": []
    },
    {
      "cell_type": "markdown",
      "metadata": {
        "id": "PT3GvhWhLnWK",
        "colab_type": "text"
      },
      "source": [
        "##### **_$nettfa$_** = -43.04 + .799 **_$inc$_** + .843 **_$age$_**      \n",
        "#####$n$ = 2,017,  $R^{2}$ = .119 \n",
        "\n",
        "The coefficient on inc indicates that one more dollar in income (holding age fixed) is reflected  in  about  80  more  cents  in  predicted  nettfa.    \n",
        "The coefficient  on  age  means  that,  holding  income  fixed, if  a  person  gets  another  year older, his/her nettfa is predicted to  increase by about $843.  (nettfa is in thousands of dollars)"
      ]
    },
    {
      "cell_type": "markdown",
      "metadata": {
        "id": "-KA__PRfLJvE",
        "colab_type": "text"
      },
      "source": [
        "##### The intercept doesn't have an interesting meaning since it gives the predicted nettfa when both inc and age equals 0. There will not be even one person with that values in the relevant population."
      ]
    },
    {
      "cell_type": "code",
      "metadata": {
        "id": "DsCUsyLtK2Fb",
        "colab_type": "code",
        "colab": {}
      },
      "source": [
        ". test age==1\n",
        "\n",
        " ( 1)  age = 1\n",
        "\n",
        "       F(  1,  2014) =    2.92\n",
        "            Prob > F =    0.0874\n"
      ],
      "execution_count": 0,
      "outputs": []
    },
    {
      "cell_type": "code",
      "metadata": {
        "id": "9r6-n7mZGBzw",
        "colab_type": "code",
        "colab": {
          "base_uri": "https://localhost:8080/",
          "height": 72
        },
        "outputId": "06b1c414-cd56-4cc4-da9a-e818d70d0912"
      },
      "source": [
        "install.packages(\"wooldridge\")\n",
        "library(wooldridge)\n",
        "attach(k401ksubs)"
      ],
      "execution_count": 2,
      "outputs": [
        {
          "output_type": "stream",
          "text": [
            "Installing package into ‘/usr/local/lib/R/site-library’\n",
            "(as ‘lib’ is unspecified)\n",
            "\n"
          ],
          "name": "stderr"
        }
      ]
    },
    {
      "cell_type": "code",
      "metadata": {
        "id": "XUt9oDK6GNhR",
        "colab_type": "code",
        "colab": {
          "base_uri": "https://localhost:8080/",
          "height": 34
        },
        "outputId": "88da9347-914c-4046-f66e-6c57865f4151"
      },
      "source": [
        "#p = 2* pt(-abs(-1.71), df=n-1)\n",
        "pt(abs(-1.71), 2016, lower=FALSE)"
      ],
      "execution_count": 3,
      "outputs": [
        {
          "output_type": "display_data",
          "data": {
            "text/plain": [
              "[1] 0.04370987"
            ],
            "text/latex": "0.0437098725542069",
            "text/markdown": "0.0437098725542069",
            "text/html": [
              "0.0437098725542069"
            ]
          },
          "metadata": {
            "tags": []
          }
        }
      ]
    },
    {
      "cell_type": "markdown",
      "metadata": {
        "id": "jlLl8jZgM30P",
        "colab_type": "text"
      },
      "source": [
        "#####Since the value of  Prob > F = 0.0874 that is larger than 1%, we fail to reject two-sided alternative H<sub>0</sub>: $\\beta$<sub>2</sub> = 1 at the 1% level.\n",
        "\n",
        "Also using the ttest in Stata, we find the tstatistic is (.843 -1)/0.092 = - 1.7065. Against the one sided alternative H<sub>1</sub> :$\\beta$<sub>2</sub> < 1; the p-value found is 0.04371. Therefore we can reject the null hypothesis at the 5 percent significance level."
      ]
    },
    {
      "cell_type": "markdown",
      "metadata": {
        "id": "XNmi5AprKmLw",
        "colab_type": "text"
      },
      "source": [
        ""
      ]
    },
    {
      "cell_type": "code",
      "metadata": {
        "id": "rZitMsi7Of2i",
        "colab_type": "code",
        "colab": {}
      },
      "source": [
        " reg nettfa inc if fsize==1\n",
        "\n",
        "      Source |       SS           df       MS      Number of obs   =     2,017\n",
        "-------------+----------------------------------   F(1, 2015)      =    181.60\n",
        "       Model |  377482.064         1  377482.064   Prob > F        =    0.0000\n",
        "    Residual |  4188482.98     2,015   2078.6516   R-squared       =    0.0827\n",
        "-------------+----------------------------------   Adj R-squared   =    0.0822\n",
        "       Total |  4565965.05     2,016  2264.86361   Root MSE        =    45.592\n",
        "\n",
        "------------------------------------------------------------------------------\n",
        "      nettfa |      Coef.   Std. Err.      t    P>|t|     [95% Conf. Interval]\n",
        "-------------+----------------------------------------------------------------\n",
        "         inc |   .8206815      .0609    13.48   0.000     .7012479     .940115\n",
        "       _cons |  -10.57095   2.060678    -5.13   0.000    -14.61223   -6.529671\n",
        "------------------------------------------------------------------------------\n",
        "\n",
        "\n",
        ". corr inc age if fsize==1\n",
        "(obs=2,017)\n",
        "\n",
        "             |      inc      age\n",
        "-------------+------------------\n",
        "         inc |   1.0000\n",
        "         age |   0.0391   1.0000"
      ],
      "execution_count": 0,
      "outputs": []
    },
    {
      "cell_type": "markdown",
      "metadata": {
        "id": "1Zrk4bbIOiLR",
        "colab_type": "text"
      },
      "source": [
        "#####The slope coefficient for **_$inc$_** got by the regression analysis is only 0.8207, which is not a huge difference with 0.7993 obtained in part (ii). The why or why not question can be answered by computing the correlation between **_$inc$_** and **_$age$_** in the sample of single people, which turns about to be only 0.0391, and therefore gives an explanation why the simple and multiple regression estimate values got are not that different."
      ]
    },
    {
      "cell_type": "code",
      "metadata": {
        "id": "HoSbqxijWaSY",
        "colab_type": "code",
        "colab": {
          "base_uri": "https://localhost:8080/",
          "height": 72
        },
        "outputId": "f8b33cf0-d202-480b-9e46-108e6d60eae8"
      },
      "source": [
        "install.packages(\"wooldridge\")\n",
        "library(wooldridge)\n",
        "data(\"econmath\")"
      ],
      "execution_count": 24,
      "outputs": [
        {
          "output_type": "stream",
          "text": [
            "Installing package into ‘/usr/local/lib/R/site-library’\n",
            "(as ‘lib’ is unspecified)\n",
            "\n"
          ],
          "name": "stderr"
        }
      ]
    },
    {
      "cell_type": "code",
      "metadata": {
        "id": "lX2MUhTmhO9g",
        "colab_type": "code",
        "colab": {
          "base_uri": "https://localhost:8080/",
          "height": 180
        },
        "outputId": "d8480794-07c3-4fb2-a9f3-236d53accae5"
      },
      "source": [
        "colnames(econmath)\n",
        "attach(econmath)\n",
        "summary(econmath$score)\n",
        "#econmath"
      ],
      "execution_count": 4,
      "outputs": [
        {
          "output_type": "display_data",
          "data": {
            "text/plain": [
              " [1] \"age\"      \"work\"     \"study\"    \"econhs\"   \"colgpa\"   \"hsgpa\"   \n",
              " [7] \"acteng\"   \"actmth\"   \"act\"      \"mathscr\"  \"male\"     \"calculus\"\n",
              "[13] \"attexc\"   \"attgood\"  \"fathcoll\" \"mothcoll\" \"score\"   "
            ],
            "text/latex": "\\begin{enumerate*}\n\\item 'age'\n\\item 'work'\n\\item 'study'\n\\item 'econhs'\n\\item 'colgpa'\n\\item 'hsgpa'\n\\item 'acteng'\n\\item 'actmth'\n\\item 'act'\n\\item 'mathscr'\n\\item 'male'\n\\item 'calculus'\n\\item 'attexc'\n\\item 'attgood'\n\\item 'fathcoll'\n\\item 'mothcoll'\n\\item 'score'\n\\end{enumerate*}\n",
            "text/markdown": "1. 'age'\n2. 'work'\n3. 'study'\n4. 'econhs'\n5. 'colgpa'\n6. 'hsgpa'\n7. 'acteng'\n8. 'actmth'\n9. 'act'\n10. 'mathscr'\n11. 'male'\n12. 'calculus'\n13. 'attexc'\n14. 'attgood'\n15. 'fathcoll'\n16. 'mothcoll'\n17. 'score'\n\n\n",
            "text/html": [
              "<style>\n",
              ".list-inline {list-style: none; margin:0; padding: 0}\n",
              ".list-inline>li {display: inline-block}\n",
              ".list-inline>li:not(:last-child)::after {content: \"\\00b7\"; padding: 0 .5ex}\n",
              "</style>\n",
              "<ol class=list-inline><li>'age'</li><li>'work'</li><li>'study'</li><li>'econhs'</li><li>'colgpa'</li><li>'hsgpa'</li><li>'acteng'</li><li>'actmth'</li><li>'act'</li><li>'mathscr'</li><li>'male'</li><li>'calculus'</li><li>'attexc'</li><li>'attgood'</li><li>'fathcoll'</li><li>'mothcoll'</li><li>'score'</li></ol>\n"
            ]
          },
          "metadata": {
            "tags": []
          }
        },
        {
          "output_type": "stream",
          "text": [
            "The following objects are masked from k401ksubs:\n",
            "\n",
            "    age, male\n",
            "\n",
            "\n"
          ],
          "name": "stderr"
        },
        {
          "output_type": "display_data",
          "data": {
            "text/plain": [
              "   Min. 1st Qu.  Median    Mean 3rd Qu.    Max. \n",
              "  19.53   64.06   74.22   72.60   82.79   98.44 "
            ]
          },
          "metadata": {
            "tags": []
          }
        }
      ]
    },
    {
      "cell_type": "markdown",
      "metadata": {
        "id": "Kt-aBYQbh8j2",
        "colab_type": "text"
      },
      "source": [
        "#####The smallest and largest values in the sample are for the variable score are 19.53 and 98.44 respectively."
      ]
    },
    {
      "cell_type": "code",
      "metadata": {
        "id": "-OLFEzdXhofZ",
        "colab_type": "code",
        "colab": {
          "base_uri": "https://localhost:8080/",
          "height": 34
        },
        "outputId": "e4d820c4-72de-4bb8-c9f2-078b581d33c2"
      },
      "source": [
        "typeof(score)\n",
        "help(double)\n",
        "#double.xmax"
      ],
      "execution_count": 43,
      "outputs": [
        {
          "output_type": "display_data",
          "data": {
            "text/plain": [
              "[1] \"double\""
            ],
            "text/latex": "'double'",
            "text/markdown": "'double'",
            "text/html": [
              "'double'"
            ]
          },
          "metadata": {
            "tags": []
          }
        }
      ]
    },
    {
      "cell_type": "markdown",
      "metadata": {
        "id": "S_t8U6vJjd_P",
        "colab_type": "text"
      },
      "source": [
        "Double can give you values from 2e-308 to 2e+308 (can check using help(double)). But here in the dataset, the score varible can logically range frpom zero (minimum value) to 100 (maximum value)"
      ]
    },
    {
      "cell_type": "code",
      "metadata": {
        "id": "6nSqt4STHIlC",
        "colab_type": "code",
        "colab": {
          "base_uri": "https://localhost:8080/",
          "height": 857
        },
        "outputId": "4a6985f3-7e76-4abd-a08d-f268f82f6269"
      },
      "source": [
        "plot(density(score))\n",
        "hist(score)"
      ],
      "execution_count": 6,
      "outputs": [
        {
          "output_type": "display_data",
          "data": {
            "image/png": "[encoded data removed]",
            "text/plain": [
              "Plot with title “density.default(x = score)”"
            ]
          },
          "metadata": {
            "tags": [],
            "image/png": {
              "width": 420,
              "height": 420
            },
            "text/plain": {
              "width": 420,
              "height": 420
            }
          }
        },
        {
          "output_type": "display_data",
          "data": {
            "image/png": "[encoded data removed]",
            "text/plain": [
              "Plot with title “Histogram of score”"
            ]
          },
          "metadata": {
            "tags": [],
            "image/png": {
              "width": 420,
              "height": 420
            },
            "text/plain": {
              "width": 420,
              "height": 420
            }
          }
        }
      ]
    },
    {
      "cell_type": "markdown",
      "metadata": {
        "id": "cYeNypvzHe-c",
        "colab_type": "text"
      },
      "source": [
        "#####Normality will not play a role in the unbiasedness of OLS. It will not affect the conclusion that OLS is BLUE (best linear unbiased estimator) under the Guass Markov assumptions. The MLR.6 is required for exact inferences based on the t statistic and the F statistic. We do not have the need to abandon the t statistic to determine the statistically significant variables. Even if the variables do not follow a normal distribution, we can use the central limit theorm to conclude the OLS estimators can satisfy aymptotic normality (approximately normally distributed in large enough sample spaces)"
      ]
    },
    {
      "cell_type": "code",
      "metadata": {
        "id": "i5LIwo8siXZT",
        "colab_type": "code",
        "colab": {
          "base_uri": "https://localhost:8080/",
          "height": 403
        },
        "outputId": "91c78cdc-6ea0-4142-d09b-eaedad605dda"
      },
      "source": [
        "lm1<-lm(score~colgpa+actmth+acteng)\n",
        "summary(lm1)"
      ],
      "execution_count": 45,
      "outputs": [
        {
          "output_type": "display_data",
          "data": {
            "text/plain": [
              "\n",
              "Call:\n",
              "lm(formula = score ~ colgpa + actmth + acteng)\n",
              "\n",
              "Residuals:\n",
              "    Min      1Q  Median      3Q     Max \n",
              "-39.855  -6.215   0.444   6.812  32.670 \n",
              "\n",
              "Coefficients:\n",
              "            Estimate Std. Error t value Pr(>|t|)    \n",
              "(Intercept) 16.17402    2.80044   5.776 1.09e-08 ***\n",
              "colgpa      12.36620    0.71506  17.294  < 2e-16 ***\n",
              "actmth       0.88335    0.11220   7.873 1.11e-14 ***\n",
              "acteng       0.05176    0.11106   0.466    0.641    \n",
              "---\n",
              "Signif. codes:  0 ‘***’ 0.001 ‘**’ 0.01 ‘*’ 0.05 ‘.’ 0.1 ‘ ’ 1\n",
              "\n",
              "Residual standard error: 10.35 on 810 degrees of freedom\n",
              "  (42 observations deleted due to missingness)\n",
              "Multiple R-squared:  0.3972,\tAdjusted R-squared:  0.395 \n",
              "F-statistic: 177.9 on 3 and 810 DF,  p-value: < 2.2e-16\n"
            ]
          },
          "metadata": {
            "tags": []
          }
        }
      ]
    },
    {
      "cell_type": "markdown",
      "metadata": {
        "id": "v3rA9tKEInfl",
        "colab_type": "text"
      },
      "source": [
        "#####H<sub>0</sub>: $\\beta$<sub>3</sub>=0\n",
        "t statistic can be calculated to be 0.47.\n",
        "p-value= 1.3615\n",
        "Since the p-value is too large and statistically insignificant, at every level, we cannot reject H<sub>0</sub>"
      ]
    },
    {
      "cell_type": "code",
      "metadata": {
        "id": "388FiWOxJdin",
        "colab_type": "code",
        "colab": {
          "base_uri": "https://localhost:8080/",
          "height": 34
        },
        "outputId": "754361bc-8e0b-4f52-cb05-aa160a965e48"
      },
      "source": [
        "2*pt(abs(0.47), 810)"
      ],
      "execution_count": 7,
      "outputs": [
        {
          "output_type": "display_data",
          "data": {
            "text/plain": [
              "[1] 1.361518"
            ],
            "text/latex": "1.36151847259083",
            "text/markdown": "1.36151847259083",
            "text/html": [
              "1.36151847259083"
            ]
          },
          "metadata": {
            "tags": []
          }
        }
      ]
    },
    {
      "cell_type": "code",
      "metadata": {
        "id": "gLQKBEwbIcKM",
        "colab_type": "code",
        "colab": {
          "base_uri": "https://localhost:8080/",
          "height": 437
        },
        "outputId": "3a5f4904-959a-4e2d-9f4d-370cbf1c6078"
      },
      "source": [
        "qqnorm(score)"
      ],
      "execution_count": 8,
      "outputs": [
        {
          "output_type": "display_data",
          "data": {
            "image/png": "[encoded data removed]",
            "text/plain": [
              "Plot with title “Normal Q-Q Plot”"
            ]
          },
          "metadata": {
            "tags": [],
            "image/png": {
              "width": 420,
              "height": 420
            },
            "text/plain": {
              "width": 420,
              "height": 420
            }
          }
        }
      ]
    },
    {
      "cell_type": "markdown",
      "metadata": {
        "id": "n9InwAppKAGh",
        "colab_type": "text"
      },
      "source": [
        "Since the sample size is sufficiently large and the data is predominantly distributed within the 2 standard deviations, we can follow the t-distribution with sufficient degree of confidence to perform hypothesis testing using p-value."
      ]
    }
  ]
}